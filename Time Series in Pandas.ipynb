{
 "cells": [
  {
   "cell_type": "markdown",
   "metadata": {},
   "source": [
    "Do not put on web or share notes without written permission.\n",
    "Notes created By Reshma"
   ]
  },
  {
   "cell_type": "markdown",
   "metadata": {},
   "source": [
    "### Pandas Time Series\n",
    "\n",
    "We can find out the data within a certain range of date and time by using pandas module named Time series."
   ]
  },
  {
   "cell_type": "markdown",
   "metadata": {},
   "source": [
    "    - Equivalent to date time python package.\n",
    "    \n",
    "    - Used to deal with date time.\n",
    "    \n",
    "    - Complex operation on date time can be done."
   ]
  },
  {
   "cell_type": "markdown",
   "metadata": {},
   "source": [
    "    TimeStamp\n",
    "        21-Jan-2021\n",
    "        21-01-2021\n",
    "        21-01-21\n",
    "        21-01-2021 30:12:11"
   ]
  },
  {
   "cell_type": "markdown",
   "metadata": {},
   "source": [
    "#### Converting to timestamp"
   ]
  },
  {
   "cell_type": "code",
   "execution_count": 1,
   "metadata": {},
   "outputs": [],
   "source": [
    "strDate = '15-January-2021'"
   ]
  },
  {
   "cell_type": "code",
   "execution_count": 2,
   "metadata": {},
   "outputs": [
    {
     "data": {
      "text/plain": [
       "str"
      ]
     },
     "execution_count": 2,
     "metadata": {},
     "output_type": "execute_result"
    }
   ],
   "source": [
    "type(strDate)"
   ]
  },
  {
   "cell_type": "code",
   "execution_count": 3,
   "metadata": {},
   "outputs": [],
   "source": [
    "import pandas as pd"
   ]
  },
  {
   "cell_type": "code",
   "execution_count": 4,
   "metadata": {},
   "outputs": [],
   "source": [
    "dateFormat = pd.to_datetime(strDate,format='%d-%B-%Y')"
   ]
  },
  {
   "cell_type": "code",
   "execution_count": 5,
   "metadata": {},
   "outputs": [
    {
     "data": {
      "text/plain": [
       "Timestamp('2021-01-15 00:00:00')"
      ]
     },
     "execution_count": 5,
     "metadata": {},
     "output_type": "execute_result"
    }
   ],
   "source": [
    "dateFormat"
   ]
  },
  {
   "cell_type": "code",
   "execution_count": 6,
   "metadata": {},
   "outputs": [
    {
     "data": {
      "text/plain": [
       "pandas._libs.tslibs.timestamps.Timestamp"
      ]
     },
     "execution_count": 6,
     "metadata": {},
     "output_type": "execute_result"
    }
   ],
   "source": [
    "type(dateFormat)"
   ]
  },
  {
   "cell_type": "code",
   "execution_count": 7,
   "metadata": {},
   "outputs": [],
   "source": [
    "import numpy as np\n",
    "dates = ['2020-11-25 2:30:00 PM', 'Jan 5, 2020 18:45:00', \n",
    "         '01/11/2020', '2020.01.11', '2020/01/11', '20201105']"
   ]
  },
  {
   "cell_type": "code",
   "execution_count": 8,
   "metadata": {},
   "outputs": [
    {
     "data": {
      "text/plain": [
       "DatetimeIndex(['2020-11-25 14:30:00', '2020-01-05 18:45:00',\n",
       "               '2020-01-11 00:00:00', '2020-01-11 00:00:00',\n",
       "               '2020-01-11 00:00:00', '2020-11-05 00:00:00'],\n",
       "              dtype='datetime64[ns]', freq=None)"
      ]
     },
     "execution_count": 8,
     "metadata": {},
     "output_type": "execute_result"
    }
   ],
   "source": [
    "pd.to_datetime(dates)"
   ]
  },
  {
   "cell_type": "markdown",
   "metadata": {},
   "source": [
    "### How to convert to Timestamp"
   ]
  },
  {
   "cell_type": "markdown",
   "metadata": {},
   "source": [
    "------ ------ --------------------------------------------\n",
    "    %a Weekday as locale's abbreviated name Sun, Mon\n",
    "------ ------ --------------------------------------------\n",
    "    %A Weekday as locale's full name. Sunday, Monday\n",
    "---------------- -----------------------------------------\n",
    "    %w Weekday as a decimal number Sunday : 0, Saturday:6\n",
    "-------------------------- -------------------------------------\n",
    "    "
   ]
  },
  {
   "cell_type": "markdown",
   "metadata": {},
   "source": [
    "------------ --------------------------------------------\n",
    "%a Weekday as locale’s abbreviated name Sun, Mon\n",
    "------ ------ --------------------------------------------\n",
    "%d Day of the month as a zero-padded decimal number. 01, 02\n",
    "------ ------ --------------------------------------------"
   ]
  },
  {
   "cell_type": "markdown",
   "metadata": {},
   "source": [
    "------ ------ --------------------------------------------\n",
    "    %b Month as locale’s abbreviated name. Jan, Feb Dec\n",
    "------ ------ --------------------------------------------\n",
    "    %B Month as locale’s full name. January\n",
    "------ ------ --------------------------------------------\n",
    "    %m Month as a zero-padded decimal number. 01, 02\n",
    "------ ------ --------------------------------------------"
   ]
  },
  {
   "cell_type": "markdown",
   "metadata": {},
   "source": [
    "\n",
    "------ ------ --------------------------------------------\n",
    "\n",
    "%y Year without century. 2000 as 00\n",
    "\n",
    "------ ------ --------------------------------------------\n",
    "%Y Year with century as a decimal number. 2013\n",
    "------ ------ --------------------------------------------"
   ]
  },
  {
   "cell_type": "markdown",
   "metadata": {},
   "source": [
    "------ ------ --------------------------------------------\n",
    "    %H Hour (24-hour clock). 00, 01, …, 23\n",
    "------ ------ --------------------------------------------\n",
    "    %I Hour (12-hour clock) 01, 02, …, 12\n",
    "------ ------ --------------------------------------------\n",
    "    %M Minute as a zero-padded decimal number. 00, 01, …, 59\n",
    "------ ------ --------------------------------------------\n",
    "    %S Second as a zero-padded decimal number. 00, 01, …, 59\n",
    "------ ------ --------------------------------------------"
   ]
  },
  {
   "cell_type": "code",
   "execution_count": 9,
   "metadata": {},
   "outputs": [],
   "source": [
    "strdata = '21-Jan-2021'"
   ]
  },
  {
   "cell_type": "code",
   "execution_count": 10,
   "metadata": {},
   "outputs": [],
   "source": [
    "datetime = pd.to_datetime(strdata,format='%d-%b-%Y')"
   ]
  },
  {
   "cell_type": "code",
   "execution_count": 11,
   "metadata": {},
   "outputs": [
    {
     "data": {
      "text/plain": [
       "Timestamp('2021-01-21 00:00:00')"
      ]
     },
     "execution_count": 11,
     "metadata": {},
     "output_type": "execute_result"
    }
   ],
   "source": [
    "datetime"
   ]
  },
  {
   "cell_type": "code",
   "execution_count": 12,
   "metadata": {},
   "outputs": [],
   "source": [
    "strdata = '22-Dec-2020'"
   ]
  },
  {
   "cell_type": "code",
   "execution_count": 13,
   "metadata": {},
   "outputs": [],
   "source": [
    "datetime = pd.to_datetime(strdata,format='%d-%b-%Y')"
   ]
  },
  {
   "cell_type": "code",
   "execution_count": 14,
   "metadata": {},
   "outputs": [
    {
     "data": {
      "text/plain": [
       "Timestamp('2020-12-22 00:00:00')"
      ]
     },
     "execution_count": 14,
     "metadata": {},
     "output_type": "execute_result"
    }
   ],
   "source": [
    "datetime"
   ]
  },
  {
   "cell_type": "markdown",
   "metadata": {},
   "source": [
    "### Available Attributes"
   ]
  },
  {
   "cell_type": "markdown",
   "metadata": {},
   "source": [
    "    day\t \n",
    "    dayofweek\t \n",
    "    dayofyear\t \n",
    "    days_in_month\t \n",
    "    daysinmonth\t \n",
    "    hour\t \n",
    "    is_leap_year\t \n",
    "    is_month_end\t \n",
    "    is_month_start\t \n",
    "    is_quarter_end\t \n",
    "    is_quarter_start\t \n",
    "    is_year_end\t \n",
    "    is_year_start\t \n",
    "    minute\t \n",
    "    month\t \n",
    "    second\t \n",
    "    value\t \n",
    "    week\t \n",
    "    weekofyear\t \n",
    "    year"
   ]
  },
  {
   "cell_type": "code",
   "execution_count": 15,
   "metadata": {},
   "outputs": [
    {
     "data": {
      "text/plain": [
       "Timestamp('2020-12-22 00:00:00')"
      ]
     },
     "execution_count": 15,
     "metadata": {},
     "output_type": "execute_result"
    }
   ],
   "source": [
    "datetime"
   ]
  },
  {
   "cell_type": "markdown",
   "metadata": {},
   "source": [
    "####  Day of the month in interger representation"
   ]
  },
  {
   "cell_type": "code",
   "execution_count": 16,
   "metadata": {},
   "outputs": [
    {
     "data": {
      "text/plain": [
       "22"
      ]
     },
     "execution_count": 16,
     "metadata": {},
     "output_type": "execute_result"
    }
   ],
   "source": [
    "datetime.day"
   ]
  },
  {
   "cell_type": "markdown",
   "metadata": {},
   "source": [
    "####  Day of the week in interger representation"
   ]
  },
  {
   "cell_type": "markdown",
   "metadata": {},
   "source": [
    "Day starts with monday having 0, tuesday -1 "
   ]
  },
  {
   "cell_type": "code",
   "execution_count": 17,
   "metadata": {},
   "outputs": [
    {
     "data": {
      "text/plain": [
       "1"
      ]
     },
     "execution_count": 17,
     "metadata": {},
     "output_type": "execute_result"
    }
   ],
   "source": [
    "datetime.dayofweek"
   ]
  },
  {
   "cell_type": "markdown",
   "metadata": {},
   "source": [
    "####  Day of the year in interger representation"
   ]
  },
  {
   "cell_type": "code",
   "execution_count": 18,
   "metadata": {},
   "outputs": [
    {
     "data": {
      "text/plain": [
       "357"
      ]
     },
     "execution_count": 18,
     "metadata": {},
     "output_type": "execute_result"
    }
   ],
   "source": [
    "datetime.dayofyear"
   ]
  },
  {
   "cell_type": "markdown",
   "metadata": {},
   "source": [
    "#### Number of days in that month"
   ]
  },
  {
   "cell_type": "code",
   "execution_count": 19,
   "metadata": {},
   "outputs": [
    {
     "data": {
      "text/plain": [
       "31"
      ]
     },
     "execution_count": 19,
     "metadata": {},
     "output_type": "execute_result"
    }
   ],
   "source": [
    "datetime.days_in_month"
   ]
  },
  {
   "cell_type": "code",
   "execution_count": 20,
   "metadata": {},
   "outputs": [
    {
     "data": {
      "text/plain": [
       "31"
      ]
     },
     "execution_count": 20,
     "metadata": {},
     "output_type": "execute_result"
    }
   ],
   "source": [
    "datetime.daysinmonth"
   ]
  },
  {
   "cell_type": "code",
   "execution_count": 21,
   "metadata": {},
   "outputs": [],
   "source": [
    "import pandas as pd\n",
    "import numpy as np\n",
    "date = 'Jan 5, 2021 14:45:00'"
   ]
  },
  {
   "cell_type": "code",
   "execution_count": 22,
   "metadata": {},
   "outputs": [],
   "source": [
    "datetime1 = pd.to_datetime(date)"
   ]
  },
  {
   "cell_type": "code",
   "execution_count": 23,
   "metadata": {},
   "outputs": [
    {
     "data": {
      "text/plain": [
       "14"
      ]
     },
     "execution_count": 23,
     "metadata": {},
     "output_type": "execute_result"
    }
   ],
   "source": [
    "datetime1.hour"
   ]
  },
  {
   "cell_type": "code",
   "execution_count": 24,
   "metadata": {},
   "outputs": [
    {
     "data": {
      "text/plain": [
       "True"
      ]
     },
     "execution_count": 24,
     "metadata": {},
     "output_type": "execute_result"
    }
   ],
   "source": [
    "datetime.is_leap_year"
   ]
  },
  {
   "cell_type": "code",
   "execution_count": 25,
   "metadata": {},
   "outputs": [
    {
     "data": {
      "text/plain": [
       "False"
      ]
     },
     "execution_count": 25,
     "metadata": {},
     "output_type": "execute_result"
    }
   ],
   "source": [
    "datetime1.is_leap_year"
   ]
  },
  {
   "cell_type": "code",
   "execution_count": 26,
   "metadata": {},
   "outputs": [
    {
     "data": {
      "text/plain": [
       "False"
      ]
     },
     "execution_count": 26,
     "metadata": {},
     "output_type": "execute_result"
    }
   ],
   "source": [
    "datetime1.is_month_end"
   ]
  },
  {
   "cell_type": "code",
   "execution_count": 27,
   "metadata": {},
   "outputs": [
    {
     "data": {
      "text/plain": [
       "Timestamp('2020-12-22 00:00:00')"
      ]
     },
     "execution_count": 27,
     "metadata": {},
     "output_type": "execute_result"
    }
   ],
   "source": [
    "datetime"
   ]
  },
  {
   "cell_type": "code",
   "execution_count": 28,
   "metadata": {},
   "outputs": [
    {
     "data": {
      "text/plain": [
       "Timestamp('2021-01-05 14:45:00')"
      ]
     },
     "execution_count": 28,
     "metadata": {},
     "output_type": "execute_result"
    }
   ],
   "source": [
    "datetime1"
   ]
  },
  {
   "cell_type": "code",
   "execution_count": 29,
   "metadata": {},
   "outputs": [
    {
     "data": {
      "text/plain": [
       "Timestamp('2020-12-22 00:00:00')"
      ]
     },
     "execution_count": 29,
     "metadata": {},
     "output_type": "execute_result"
    }
   ],
   "source": [
    "datetime"
   ]
  },
  {
   "cell_type": "code",
   "execution_count": 30,
   "metadata": {},
   "outputs": [
    {
     "data": {
      "text/plain": [
       "45"
      ]
     },
     "execution_count": 30,
     "metadata": {},
     "output_type": "execute_result"
    }
   ],
   "source": [
    "datetime1.minute"
   ]
  },
  {
   "cell_type": "code",
   "execution_count": 31,
   "metadata": {},
   "outputs": [
    {
     "data": {
      "text/plain": [
       "12"
      ]
     },
     "execution_count": 31,
     "metadata": {},
     "output_type": "execute_result"
    }
   ],
   "source": [
    "datetime.month"
   ]
  },
  {
   "cell_type": "markdown",
   "metadata": {},
   "source": [
    "#### Month in which quarter"
   ]
  },
  {
   "cell_type": "code",
   "execution_count": 32,
   "metadata": {},
   "outputs": [
    {
     "data": {
      "text/plain": [
       "4"
      ]
     },
     "execution_count": 32,
     "metadata": {},
     "output_type": "execute_result"
    }
   ],
   "source": [
    "datetime.quarter"
   ]
  },
  {
   "cell_type": "code",
   "execution_count": 33,
   "metadata": {},
   "outputs": [
    {
     "data": {
      "text/plain": [
       "1"
      ]
     },
     "execution_count": 33,
     "metadata": {},
     "output_type": "execute_result"
    }
   ],
   "source": [
    "datetime1.quarter"
   ]
  },
  {
   "cell_type": "markdown",
   "metadata": {},
   "source": [
    "#### Time stamp unique value"
   ]
  },
  {
   "cell_type": "code",
   "execution_count": 34,
   "metadata": {},
   "outputs": [
    {
     "data": {
      "text/plain": [
       "1608595200000000000"
      ]
     },
     "execution_count": 34,
     "metadata": {},
     "output_type": "execute_result"
    }
   ],
   "source": [
    "datetime.value"
   ]
  },
  {
   "cell_type": "code",
   "execution_count": 35,
   "metadata": {},
   "outputs": [
    {
     "data": {
      "text/plain": [
       "1609857900000000000"
      ]
     },
     "execution_count": 35,
     "metadata": {},
     "output_type": "execute_result"
    }
   ],
   "source": [
    "datetime1.value"
   ]
  },
  {
   "cell_type": "markdown",
   "metadata": {},
   "source": [
    "#### Week of the Year"
   ]
  },
  {
   "cell_type": "code",
   "execution_count": 36,
   "metadata": {},
   "outputs": [
    {
     "data": {
      "text/plain": [
       "52"
      ]
     },
     "execution_count": 36,
     "metadata": {},
     "output_type": "execute_result"
    }
   ],
   "source": [
    "datetime.week"
   ]
  },
  {
   "cell_type": "code",
   "execution_count": 37,
   "metadata": {},
   "outputs": [
    {
     "data": {
      "text/plain": [
       "52"
      ]
     },
     "execution_count": 37,
     "metadata": {},
     "output_type": "execute_result"
    }
   ],
   "source": [
    "datetime.weekofyear"
   ]
  },
  {
   "cell_type": "markdown",
   "metadata": {},
   "source": [
    "#### Year of the data"
   ]
  },
  {
   "cell_type": "code",
   "execution_count": 38,
   "metadata": {},
   "outputs": [
    {
     "data": {
      "text/plain": [
       "2020"
      ]
     },
     "execution_count": 38,
     "metadata": {},
     "output_type": "execute_result"
    }
   ],
   "source": [
    "datetime.year"
   ]
  },
  {
   "cell_type": "code",
   "execution_count": 39,
   "metadata": {},
   "outputs": [
    {
     "data": {
      "text/plain": [
       "2021"
      ]
     },
     "execution_count": 39,
     "metadata": {},
     "output_type": "execute_result"
    }
   ],
   "source": [
    "datetime1.year"
   ]
  },
  {
   "cell_type": "markdown",
   "metadata": {},
   "source": [
    "#### Today "
   ]
  },
  {
   "cell_type": "code",
   "execution_count": 40,
   "metadata": {},
   "outputs": [
    {
     "data": {
      "text/plain": [
       "Timestamp('2021-01-28 16:08:06.461983')"
      ]
     },
     "execution_count": 40,
     "metadata": {},
     "output_type": "execute_result"
    }
   ],
   "source": [
    "datetime.today()"
   ]
  },
  {
   "cell_type": "code",
   "execution_count": 41,
   "metadata": {},
   "outputs": [
    {
     "data": {
      "text/plain": [
       "Timestamp('2020-12-22 00:00:00')"
      ]
     },
     "execution_count": 41,
     "metadata": {},
     "output_type": "execute_result"
    }
   ],
   "source": [
    "datetime"
   ]
  },
  {
   "cell_type": "code",
   "execution_count": 42,
   "metadata": {},
   "outputs": [
    {
     "data": {
      "text/plain": [
       "'December'"
      ]
     },
     "execution_count": 42,
     "metadata": {},
     "output_type": "execute_result"
    }
   ],
   "source": [
    "datetime.month_name()"
   ]
  },
  {
   "cell_type": "code",
   "execution_count": 43,
   "metadata": {},
   "outputs": [
    {
     "data": {
      "text/plain": [
       "'Tuesday'"
      ]
     },
     "execution_count": 43,
     "metadata": {},
     "output_type": "execute_result"
    }
   ],
   "source": [
    "datetime.day_name()"
   ]
  },
  {
   "cell_type": "markdown",
   "metadata": {},
   "source": [
    "## Time Series in DataFrame"
   ]
  },
  {
   "cell_type": "markdown",
   "metadata": {},
   "source": [
    "#### Reading dataset"
   ]
  },
  {
   "cell_type": "code",
   "execution_count": 44,
   "metadata": {},
   "outputs": [],
   "source": [
    "shareData = pd.read_csv('shirpurGoldRefinery.csv')"
   ]
  },
  {
   "cell_type": "code",
   "execution_count": 45,
   "metadata": {},
   "outputs": [
    {
     "data": {
      "text/html": [
       "<div>\n",
       "<style scoped>\n",
       "    .dataframe tbody tr th:only-of-type {\n",
       "        vertical-align: middle;\n",
       "    }\n",
       "\n",
       "    .dataframe tbody tr th {\n",
       "        vertical-align: top;\n",
       "    }\n",
       "\n",
       "    .dataframe thead th {\n",
       "        text-align: right;\n",
       "    }\n",
       "</style>\n",
       "<table border=\"1\" class=\"dataframe\">\n",
       "  <thead>\n",
       "    <tr style=\"text-align: right;\">\n",
       "      <th></th>\n",
       "      <th>Date</th>\n",
       "      <th>Open Price</th>\n",
       "      <th>High Price</th>\n",
       "      <th>Low Price</th>\n",
       "      <th>Close Price</th>\n",
       "      <th>WAP</th>\n",
       "      <th>No.of Shares</th>\n",
       "      <th>No. of Trades</th>\n",
       "      <th>Total Turnover (Rs.)</th>\n",
       "      <th>Deliverable Quantity</th>\n",
       "      <th>% Deli. Qty to Traded Qty</th>\n",
       "      <th>Spread High-Low</th>\n",
       "      <th>Spread Close-Open</th>\n",
       "    </tr>\n",
       "  </thead>\n",
       "  <tbody>\n",
       "    <tr>\n",
       "      <th>0</th>\n",
       "      <td>29-December-2017</td>\n",
       "      <td>203.55</td>\n",
       "      <td>206.5</td>\n",
       "      <td>201.00</td>\n",
       "      <td>201.85</td>\n",
       "      <td>202.760380</td>\n",
       "      <td>3372</td>\n",
       "      <td>68</td>\n",
       "      <td>683708.0</td>\n",
       "      <td>2202</td>\n",
       "      <td>65.30</td>\n",
       "      <td>5.50</td>\n",
       "      <td>-1.70</td>\n",
       "    </tr>\n",
       "    <tr>\n",
       "      <th>1</th>\n",
       "      <td>28-December-2017</td>\n",
       "      <td>202.00</td>\n",
       "      <td>207.6</td>\n",
       "      <td>199.55</td>\n",
       "      <td>202.80</td>\n",
       "      <td>203.118439</td>\n",
       "      <td>8612</td>\n",
       "      <td>196</td>\n",
       "      <td>1749256.0</td>\n",
       "      <td>5063</td>\n",
       "      <td>58.79</td>\n",
       "      <td>8.05</td>\n",
       "      <td>0.80</td>\n",
       "    </tr>\n",
       "    <tr>\n",
       "      <th>2</th>\n",
       "      <td>27-December-2017</td>\n",
       "      <td>209.10</td>\n",
       "      <td>213.6</td>\n",
       "      <td>195.20</td>\n",
       "      <td>197.80</td>\n",
       "      <td>202.801825</td>\n",
       "      <td>24983</td>\n",
       "      <td>426</td>\n",
       "      <td>5066598.0</td>\n",
       "      <td>14168</td>\n",
       "      <td>56.71</td>\n",
       "      <td>18.40</td>\n",
       "      <td>-11.30</td>\n",
       "    </tr>\n",
       "    <tr>\n",
       "      <th>3</th>\n",
       "      <td>26-December-2017</td>\n",
       "      <td>216.50</td>\n",
       "      <td>219.9</td>\n",
       "      <td>207.20</td>\n",
       "      <td>209.70</td>\n",
       "      <td>213.418007</td>\n",
       "      <td>17782</td>\n",
       "      <td>363</td>\n",
       "      <td>3794999.0</td>\n",
       "      <td>7540</td>\n",
       "      <td>42.40</td>\n",
       "      <td>12.70</td>\n",
       "      <td>-6.80</td>\n",
       "    </tr>\n",
       "    <tr>\n",
       "      <th>4</th>\n",
       "      <td>22-December-2017</td>\n",
       "      <td>218.95</td>\n",
       "      <td>233.6</td>\n",
       "      <td>212.40</td>\n",
       "      <td>218.15</td>\n",
       "      <td>223.089049</td>\n",
       "      <td>165976</td>\n",
       "      <td>2710</td>\n",
       "      <td>37027428.0</td>\n",
       "      <td>60121</td>\n",
       "      <td>36.22</td>\n",
       "      <td>21.20</td>\n",
       "      <td>-0.80</td>\n",
       "    </tr>\n",
       "    <tr>\n",
       "      <th>...</th>\n",
       "      <td>...</td>\n",
       "      <td>...</td>\n",
       "      <td>...</td>\n",
       "      <td>...</td>\n",
       "      <td>...</td>\n",
       "      <td>...</td>\n",
       "      <td>...</td>\n",
       "      <td>...</td>\n",
       "      <td>...</td>\n",
       "      <td>...</td>\n",
       "      <td>...</td>\n",
       "      <td>...</td>\n",
       "      <td>...</td>\n",
       "    </tr>\n",
       "    <tr>\n",
       "      <th>243</th>\n",
       "      <td>6-January-2017</td>\n",
       "      <td>110.10</td>\n",
       "      <td>110.1</td>\n",
       "      <td>107.80</td>\n",
       "      <td>110.10</td>\n",
       "      <td>110.048719</td>\n",
       "      <td>2771</td>\n",
       "      <td>34</td>\n",
       "      <td>304945.0</td>\n",
       "      <td>2045</td>\n",
       "      <td>73.80</td>\n",
       "      <td>2.30</td>\n",
       "      <td>0.00</td>\n",
       "    </tr>\n",
       "    <tr>\n",
       "      <th>244</th>\n",
       "      <td>5-January-2017</td>\n",
       "      <td>101.00</td>\n",
       "      <td>104.9</td>\n",
       "      <td>100.00</td>\n",
       "      <td>104.90</td>\n",
       "      <td>103.352347</td>\n",
       "      <td>9993</td>\n",
       "      <td>147</td>\n",
       "      <td>1032800.0</td>\n",
       "      <td>5969</td>\n",
       "      <td>59.73</td>\n",
       "      <td>4.90</td>\n",
       "      <td>3.90</td>\n",
       "    </tr>\n",
       "    <tr>\n",
       "      <th>245</th>\n",
       "      <td>4-January-2017</td>\n",
       "      <td>99.50</td>\n",
       "      <td>102.0</td>\n",
       "      <td>99.50</td>\n",
       "      <td>99.95</td>\n",
       "      <td>100.293226</td>\n",
       "      <td>4488</td>\n",
       "      <td>101</td>\n",
       "      <td>450116.0</td>\n",
       "      <td>3422</td>\n",
       "      <td>76.25</td>\n",
       "      <td>2.50</td>\n",
       "      <td>0.45</td>\n",
       "    </tr>\n",
       "    <tr>\n",
       "      <th>246</th>\n",
       "      <td>3-January-2017</td>\n",
       "      <td>102.00</td>\n",
       "      <td>102.0</td>\n",
       "      <td>100.05</td>\n",
       "      <td>100.65</td>\n",
       "      <td>100.784909</td>\n",
       "      <td>6295</td>\n",
       "      <td>101</td>\n",
       "      <td>634441.0</td>\n",
       "      <td>4205</td>\n",
       "      <td>66.80</td>\n",
       "      <td>1.95</td>\n",
       "      <td>-1.35</td>\n",
       "    </tr>\n",
       "    <tr>\n",
       "      <th>247</th>\n",
       "      <td>2-January-2017</td>\n",
       "      <td>104.00</td>\n",
       "      <td>104.0</td>\n",
       "      <td>99.00</td>\n",
       "      <td>101.65</td>\n",
       "      <td>101.302024</td>\n",
       "      <td>5483</td>\n",
       "      <td>182</td>\n",
       "      <td>555439.0</td>\n",
       "      <td>5062</td>\n",
       "      <td>92.32</td>\n",
       "      <td>5.00</td>\n",
       "      <td>-2.35</td>\n",
       "    </tr>\n",
       "  </tbody>\n",
       "</table>\n",
       "<p>248 rows × 13 columns</p>\n",
       "</div>"
      ],
      "text/plain": [
       "                 Date  Open Price  High Price  Low Price  Close Price  \\\n",
       "0    29-December-2017      203.55       206.5     201.00       201.85   \n",
       "1    28-December-2017      202.00       207.6     199.55       202.80   \n",
       "2    27-December-2017      209.10       213.6     195.20       197.80   \n",
       "3    26-December-2017      216.50       219.9     207.20       209.70   \n",
       "4    22-December-2017      218.95       233.6     212.40       218.15   \n",
       "..                ...         ...         ...        ...          ...   \n",
       "243    6-January-2017      110.10       110.1     107.80       110.10   \n",
       "244    5-January-2017      101.00       104.9     100.00       104.90   \n",
       "245    4-January-2017       99.50       102.0      99.50        99.95   \n",
       "246    3-January-2017      102.00       102.0     100.05       100.65   \n",
       "247    2-January-2017      104.00       104.0      99.00       101.65   \n",
       "\n",
       "            WAP  No.of Shares  No. of Trades  Total Turnover (Rs.)  \\\n",
       "0    202.760380          3372             68              683708.0   \n",
       "1    203.118439          8612            196             1749256.0   \n",
       "2    202.801825         24983            426             5066598.0   \n",
       "3    213.418007         17782            363             3794999.0   \n",
       "4    223.089049        165976           2710            37027428.0   \n",
       "..          ...           ...            ...                   ...   \n",
       "243  110.048719          2771             34              304945.0   \n",
       "244  103.352347          9993            147             1032800.0   \n",
       "245  100.293226          4488            101              450116.0   \n",
       "246  100.784909          6295            101              634441.0   \n",
       "247  101.302024          5483            182              555439.0   \n",
       "\n",
       "     Deliverable Quantity  % Deli. Qty to Traded Qty  Spread High-Low  \\\n",
       "0                    2202                      65.30             5.50   \n",
       "1                    5063                      58.79             8.05   \n",
       "2                   14168                      56.71            18.40   \n",
       "3                    7540                      42.40            12.70   \n",
       "4                   60121                      36.22            21.20   \n",
       "..                    ...                        ...              ...   \n",
       "243                  2045                      73.80             2.30   \n",
       "244                  5969                      59.73             4.90   \n",
       "245                  3422                      76.25             2.50   \n",
       "246                  4205                      66.80             1.95   \n",
       "247                  5062                      92.32             5.00   \n",
       "\n",
       "     Spread Close-Open  \n",
       "0                -1.70  \n",
       "1                 0.80  \n",
       "2               -11.30  \n",
       "3                -6.80  \n",
       "4                -0.80  \n",
       "..                 ...  \n",
       "243               0.00  \n",
       "244               3.90  \n",
       "245               0.45  \n",
       "246              -1.35  \n",
       "247              -2.35  \n",
       "\n",
       "[248 rows x 13 columns]"
      ]
     },
     "execution_count": 45,
     "metadata": {},
     "output_type": "execute_result"
    }
   ],
   "source": [
    "shareData"
   ]
  },
  {
   "cell_type": "markdown",
   "metadata": {},
   "source": [
    "#### Localizing zeroth row and Date column"
   ]
  },
  {
   "cell_type": "code",
   "execution_count": 46,
   "metadata": {},
   "outputs": [
    {
     "data": {
      "text/plain": [
       "'29-December-2017'"
      ]
     },
     "execution_count": 46,
     "metadata": {},
     "output_type": "execute_result"
    }
   ],
   "source": [
    "shareData.at[0,'Date']"
   ]
  },
  {
   "cell_type": "code",
   "execution_count": 47,
   "metadata": {},
   "outputs": [
    {
     "data": {
      "text/plain": [
       "str"
      ]
     },
     "execution_count": 47,
     "metadata": {},
     "output_type": "execute_result"
    }
   ],
   "source": [
    "type(shareData.at[0,'Date'])"
   ]
  },
  {
   "cell_type": "markdown",
   "metadata": {},
   "source": [
    "#### Creating new Column with name TimeStamp and storing the timestamp values of the Date column of the DataFrame."
   ]
  },
  {
   "cell_type": "code",
   "execution_count": 48,
   "metadata": {},
   "outputs": [],
   "source": [
    "shareData['TimeStamp'] = pd.to_datetime(shareData.Date,format='%d-%B-%Y')"
   ]
  },
  {
   "cell_type": "code",
   "execution_count": 49,
   "metadata": {},
   "outputs": [
    {
     "data": {
      "text/html": [
       "<div>\n",
       "<style scoped>\n",
       "    .dataframe tbody tr th:only-of-type {\n",
       "        vertical-align: middle;\n",
       "    }\n",
       "\n",
       "    .dataframe tbody tr th {\n",
       "        vertical-align: top;\n",
       "    }\n",
       "\n",
       "    .dataframe thead th {\n",
       "        text-align: right;\n",
       "    }\n",
       "</style>\n",
       "<table border=\"1\" class=\"dataframe\">\n",
       "  <thead>\n",
       "    <tr style=\"text-align: right;\">\n",
       "      <th></th>\n",
       "      <th>Date</th>\n",
       "      <th>Open Price</th>\n",
       "      <th>High Price</th>\n",
       "      <th>Low Price</th>\n",
       "      <th>Close Price</th>\n",
       "      <th>WAP</th>\n",
       "      <th>No.of Shares</th>\n",
       "      <th>No. of Trades</th>\n",
       "      <th>Total Turnover (Rs.)</th>\n",
       "      <th>Deliverable Quantity</th>\n",
       "      <th>% Deli. Qty to Traded Qty</th>\n",
       "      <th>Spread High-Low</th>\n",
       "      <th>Spread Close-Open</th>\n",
       "      <th>TimeStamp</th>\n",
       "    </tr>\n",
       "  </thead>\n",
       "  <tbody>\n",
       "    <tr>\n",
       "      <th>0</th>\n",
       "      <td>29-December-2017</td>\n",
       "      <td>203.55</td>\n",
       "      <td>206.5</td>\n",
       "      <td>201.00</td>\n",
       "      <td>201.85</td>\n",
       "      <td>202.760380</td>\n",
       "      <td>3372</td>\n",
       "      <td>68</td>\n",
       "      <td>683708.0</td>\n",
       "      <td>2202</td>\n",
       "      <td>65.30</td>\n",
       "      <td>5.50</td>\n",
       "      <td>-1.70</td>\n",
       "      <td>2017-12-29</td>\n",
       "    </tr>\n",
       "    <tr>\n",
       "      <th>1</th>\n",
       "      <td>28-December-2017</td>\n",
       "      <td>202.00</td>\n",
       "      <td>207.6</td>\n",
       "      <td>199.55</td>\n",
       "      <td>202.80</td>\n",
       "      <td>203.118439</td>\n",
       "      <td>8612</td>\n",
       "      <td>196</td>\n",
       "      <td>1749256.0</td>\n",
       "      <td>5063</td>\n",
       "      <td>58.79</td>\n",
       "      <td>8.05</td>\n",
       "      <td>0.80</td>\n",
       "      <td>2017-12-28</td>\n",
       "    </tr>\n",
       "    <tr>\n",
       "      <th>2</th>\n",
       "      <td>27-December-2017</td>\n",
       "      <td>209.10</td>\n",
       "      <td>213.6</td>\n",
       "      <td>195.20</td>\n",
       "      <td>197.80</td>\n",
       "      <td>202.801825</td>\n",
       "      <td>24983</td>\n",
       "      <td>426</td>\n",
       "      <td>5066598.0</td>\n",
       "      <td>14168</td>\n",
       "      <td>56.71</td>\n",
       "      <td>18.40</td>\n",
       "      <td>-11.30</td>\n",
       "      <td>2017-12-27</td>\n",
       "    </tr>\n",
       "    <tr>\n",
       "      <th>3</th>\n",
       "      <td>26-December-2017</td>\n",
       "      <td>216.50</td>\n",
       "      <td>219.9</td>\n",
       "      <td>207.20</td>\n",
       "      <td>209.70</td>\n",
       "      <td>213.418007</td>\n",
       "      <td>17782</td>\n",
       "      <td>363</td>\n",
       "      <td>3794999.0</td>\n",
       "      <td>7540</td>\n",
       "      <td>42.40</td>\n",
       "      <td>12.70</td>\n",
       "      <td>-6.80</td>\n",
       "      <td>2017-12-26</td>\n",
       "    </tr>\n",
       "    <tr>\n",
       "      <th>4</th>\n",
       "      <td>22-December-2017</td>\n",
       "      <td>218.95</td>\n",
       "      <td>233.6</td>\n",
       "      <td>212.40</td>\n",
       "      <td>218.15</td>\n",
       "      <td>223.089049</td>\n",
       "      <td>165976</td>\n",
       "      <td>2710</td>\n",
       "      <td>37027428.0</td>\n",
       "      <td>60121</td>\n",
       "      <td>36.22</td>\n",
       "      <td>21.20</td>\n",
       "      <td>-0.80</td>\n",
       "      <td>2017-12-22</td>\n",
       "    </tr>\n",
       "    <tr>\n",
       "      <th>...</th>\n",
       "      <td>...</td>\n",
       "      <td>...</td>\n",
       "      <td>...</td>\n",
       "      <td>...</td>\n",
       "      <td>...</td>\n",
       "      <td>...</td>\n",
       "      <td>...</td>\n",
       "      <td>...</td>\n",
       "      <td>...</td>\n",
       "      <td>...</td>\n",
       "      <td>...</td>\n",
       "      <td>...</td>\n",
       "      <td>...</td>\n",
       "      <td>...</td>\n",
       "    </tr>\n",
       "    <tr>\n",
       "      <th>243</th>\n",
       "      <td>6-January-2017</td>\n",
       "      <td>110.10</td>\n",
       "      <td>110.1</td>\n",
       "      <td>107.80</td>\n",
       "      <td>110.10</td>\n",
       "      <td>110.048719</td>\n",
       "      <td>2771</td>\n",
       "      <td>34</td>\n",
       "      <td>304945.0</td>\n",
       "      <td>2045</td>\n",
       "      <td>73.80</td>\n",
       "      <td>2.30</td>\n",
       "      <td>0.00</td>\n",
       "      <td>2017-01-06</td>\n",
       "    </tr>\n",
       "    <tr>\n",
       "      <th>244</th>\n",
       "      <td>5-January-2017</td>\n",
       "      <td>101.00</td>\n",
       "      <td>104.9</td>\n",
       "      <td>100.00</td>\n",
       "      <td>104.90</td>\n",
       "      <td>103.352347</td>\n",
       "      <td>9993</td>\n",
       "      <td>147</td>\n",
       "      <td>1032800.0</td>\n",
       "      <td>5969</td>\n",
       "      <td>59.73</td>\n",
       "      <td>4.90</td>\n",
       "      <td>3.90</td>\n",
       "      <td>2017-01-05</td>\n",
       "    </tr>\n",
       "    <tr>\n",
       "      <th>245</th>\n",
       "      <td>4-January-2017</td>\n",
       "      <td>99.50</td>\n",
       "      <td>102.0</td>\n",
       "      <td>99.50</td>\n",
       "      <td>99.95</td>\n",
       "      <td>100.293226</td>\n",
       "      <td>4488</td>\n",
       "      <td>101</td>\n",
       "      <td>450116.0</td>\n",
       "      <td>3422</td>\n",
       "      <td>76.25</td>\n",
       "      <td>2.50</td>\n",
       "      <td>0.45</td>\n",
       "      <td>2017-01-04</td>\n",
       "    </tr>\n",
       "    <tr>\n",
       "      <th>246</th>\n",
       "      <td>3-January-2017</td>\n",
       "      <td>102.00</td>\n",
       "      <td>102.0</td>\n",
       "      <td>100.05</td>\n",
       "      <td>100.65</td>\n",
       "      <td>100.784909</td>\n",
       "      <td>6295</td>\n",
       "      <td>101</td>\n",
       "      <td>634441.0</td>\n",
       "      <td>4205</td>\n",
       "      <td>66.80</td>\n",
       "      <td>1.95</td>\n",
       "      <td>-1.35</td>\n",
       "      <td>2017-01-03</td>\n",
       "    </tr>\n",
       "    <tr>\n",
       "      <th>247</th>\n",
       "      <td>2-January-2017</td>\n",
       "      <td>104.00</td>\n",
       "      <td>104.0</td>\n",
       "      <td>99.00</td>\n",
       "      <td>101.65</td>\n",
       "      <td>101.302024</td>\n",
       "      <td>5483</td>\n",
       "      <td>182</td>\n",
       "      <td>555439.0</td>\n",
       "      <td>5062</td>\n",
       "      <td>92.32</td>\n",
       "      <td>5.00</td>\n",
       "      <td>-2.35</td>\n",
       "      <td>2017-01-02</td>\n",
       "    </tr>\n",
       "  </tbody>\n",
       "</table>\n",
       "<p>248 rows × 14 columns</p>\n",
       "</div>"
      ],
      "text/plain": [
       "                 Date  Open Price  High Price  Low Price  Close Price  \\\n",
       "0    29-December-2017      203.55       206.5     201.00       201.85   \n",
       "1    28-December-2017      202.00       207.6     199.55       202.80   \n",
       "2    27-December-2017      209.10       213.6     195.20       197.80   \n",
       "3    26-December-2017      216.50       219.9     207.20       209.70   \n",
       "4    22-December-2017      218.95       233.6     212.40       218.15   \n",
       "..                ...         ...         ...        ...          ...   \n",
       "243    6-January-2017      110.10       110.1     107.80       110.10   \n",
       "244    5-January-2017      101.00       104.9     100.00       104.90   \n",
       "245    4-January-2017       99.50       102.0      99.50        99.95   \n",
       "246    3-January-2017      102.00       102.0     100.05       100.65   \n",
       "247    2-January-2017      104.00       104.0      99.00       101.65   \n",
       "\n",
       "            WAP  No.of Shares  No. of Trades  Total Turnover (Rs.)  \\\n",
       "0    202.760380          3372             68              683708.0   \n",
       "1    203.118439          8612            196             1749256.0   \n",
       "2    202.801825         24983            426             5066598.0   \n",
       "3    213.418007         17782            363             3794999.0   \n",
       "4    223.089049        165976           2710            37027428.0   \n",
       "..          ...           ...            ...                   ...   \n",
       "243  110.048719          2771             34              304945.0   \n",
       "244  103.352347          9993            147             1032800.0   \n",
       "245  100.293226          4488            101              450116.0   \n",
       "246  100.784909          6295            101              634441.0   \n",
       "247  101.302024          5483            182              555439.0   \n",
       "\n",
       "     Deliverable Quantity  % Deli. Qty to Traded Qty  Spread High-Low  \\\n",
       "0                    2202                      65.30             5.50   \n",
       "1                    5063                      58.79             8.05   \n",
       "2                   14168                      56.71            18.40   \n",
       "3                    7540                      42.40            12.70   \n",
       "4                   60121                      36.22            21.20   \n",
       "..                    ...                        ...              ...   \n",
       "243                  2045                      73.80             2.30   \n",
       "244                  5969                      59.73             4.90   \n",
       "245                  3422                      76.25             2.50   \n",
       "246                  4205                      66.80             1.95   \n",
       "247                  5062                      92.32             5.00   \n",
       "\n",
       "     Spread Close-Open  TimeStamp  \n",
       "0                -1.70 2017-12-29  \n",
       "1                 0.80 2017-12-28  \n",
       "2               -11.30 2017-12-27  \n",
       "3                -6.80 2017-12-26  \n",
       "4                -0.80 2017-12-22  \n",
       "..                 ...        ...  \n",
       "243               0.00 2017-01-06  \n",
       "244               3.90 2017-01-05  \n",
       "245               0.45 2017-01-04  \n",
       "246              -1.35 2017-01-03  \n",
       "247              -2.35 2017-01-02  \n",
       "\n",
       "[248 rows x 14 columns]"
      ]
     },
     "execution_count": 49,
     "metadata": {},
     "output_type": "execute_result"
    }
   ],
   "source": [
    "shareData"
   ]
  },
  {
   "cell_type": "code",
   "execution_count": 50,
   "metadata": {},
   "outputs": [
    {
     "data": {
      "text/plain": [
       "str"
      ]
     },
     "execution_count": 50,
     "metadata": {},
     "output_type": "execute_result"
    }
   ],
   "source": [
    "type(shareData.at[0,'Date'])"
   ]
  },
  {
   "cell_type": "code",
   "execution_count": 51,
   "metadata": {},
   "outputs": [
    {
     "data": {
      "text/plain": [
       "pandas._libs.tslibs.timestamps.Timestamp"
      ]
     },
     "execution_count": 51,
     "metadata": {},
     "output_type": "execute_result"
    }
   ],
   "source": [
    "type(shareData.at[0,'TimeStamp'])"
   ]
  },
  {
   "cell_type": "markdown",
   "metadata": {},
   "source": [
    "#### Timestamp help you order the dates in Time manner"
   ]
  },
  {
   "cell_type": "code",
   "execution_count": 52,
   "metadata": {},
   "outputs": [
    {
     "data": {
      "text/plain": [
       "Timestamp('2017-12-29 00:00:00')"
      ]
     },
     "execution_count": 52,
     "metadata": {},
     "output_type": "execute_result"
    }
   ],
   "source": [
    "shareData.TimeStamp.max()"
   ]
  },
  {
   "cell_type": "code",
   "execution_count": 53,
   "metadata": {},
   "outputs": [
    {
     "data": {
      "text/plain": [
       "'9-October-2017'"
      ]
     },
     "execution_count": 53,
     "metadata": {},
     "output_type": "execute_result"
    }
   ],
   "source": [
    "shareData.Date.max()"
   ]
  },
  {
   "cell_type": "code",
   "execution_count": 54,
   "metadata": {},
   "outputs": [
    {
     "data": {
      "text/plain": [
       "'1-August-2017'"
      ]
     },
     "execution_count": 54,
     "metadata": {},
     "output_type": "execute_result"
    }
   ],
   "source": [
    "shareData.Date.min()"
   ]
  },
  {
   "cell_type": "code",
   "execution_count": 55,
   "metadata": {},
   "outputs": [
    {
     "data": {
      "text/plain": [
       "Timestamp('2017-01-02 00:00:00')"
      ]
     },
     "execution_count": 55,
     "metadata": {},
     "output_type": "execute_result"
    }
   ],
   "source": [
    "shareData.TimeStamp.min()"
   ]
  },
  {
   "cell_type": "code",
   "execution_count": 56,
   "metadata": {},
   "outputs": [],
   "source": [
    "shareData = shareData[['Open Price','High Price', 'Low Price',\n",
    "                       'Close Price','TimeStamp']]"
   ]
  },
  {
   "cell_type": "code",
   "execution_count": 57,
   "metadata": {},
   "outputs": [
    {
     "data": {
      "text/html": [
       "<div>\n",
       "<style scoped>\n",
       "    .dataframe tbody tr th:only-of-type {\n",
       "        vertical-align: middle;\n",
       "    }\n",
       "\n",
       "    .dataframe tbody tr th {\n",
       "        vertical-align: top;\n",
       "    }\n",
       "\n",
       "    .dataframe thead th {\n",
       "        text-align: right;\n",
       "    }\n",
       "</style>\n",
       "<table border=\"1\" class=\"dataframe\">\n",
       "  <thead>\n",
       "    <tr style=\"text-align: right;\">\n",
       "      <th></th>\n",
       "      <th>Open Price</th>\n",
       "      <th>High Price</th>\n",
       "      <th>Low Price</th>\n",
       "      <th>Close Price</th>\n",
       "      <th>TimeStamp</th>\n",
       "    </tr>\n",
       "  </thead>\n",
       "  <tbody>\n",
       "    <tr>\n",
       "      <th>0</th>\n",
       "      <td>203.55</td>\n",
       "      <td>206.5</td>\n",
       "      <td>201.00</td>\n",
       "      <td>201.85</td>\n",
       "      <td>2017-12-29</td>\n",
       "    </tr>\n",
       "    <tr>\n",
       "      <th>1</th>\n",
       "      <td>202.00</td>\n",
       "      <td>207.6</td>\n",
       "      <td>199.55</td>\n",
       "      <td>202.80</td>\n",
       "      <td>2017-12-28</td>\n",
       "    </tr>\n",
       "    <tr>\n",
       "      <th>2</th>\n",
       "      <td>209.10</td>\n",
       "      <td>213.6</td>\n",
       "      <td>195.20</td>\n",
       "      <td>197.80</td>\n",
       "      <td>2017-12-27</td>\n",
       "    </tr>\n",
       "    <tr>\n",
       "      <th>3</th>\n",
       "      <td>216.50</td>\n",
       "      <td>219.9</td>\n",
       "      <td>207.20</td>\n",
       "      <td>209.70</td>\n",
       "      <td>2017-12-26</td>\n",
       "    </tr>\n",
       "    <tr>\n",
       "      <th>4</th>\n",
       "      <td>218.95</td>\n",
       "      <td>233.6</td>\n",
       "      <td>212.40</td>\n",
       "      <td>218.15</td>\n",
       "      <td>2017-12-22</td>\n",
       "    </tr>\n",
       "  </tbody>\n",
       "</table>\n",
       "</div>"
      ],
      "text/plain": [
       "   Open Price  High Price  Low Price  Close Price  TimeStamp\n",
       "0      203.55       206.5     201.00       201.85 2017-12-29\n",
       "1      202.00       207.6     199.55       202.80 2017-12-28\n",
       "2      209.10       213.6     195.20       197.80 2017-12-27\n",
       "3      216.50       219.9     207.20       209.70 2017-12-26\n",
       "4      218.95       233.6     212.40       218.15 2017-12-22"
      ]
     },
     "execution_count": 57,
     "metadata": {},
     "output_type": "execute_result"
    }
   ],
   "source": [
    "shareData.head()"
   ]
  },
  {
   "cell_type": "code",
   "execution_count": 58,
   "metadata": {},
   "outputs": [
    {
     "data": {
      "text/plain": [
       "248"
      ]
     },
     "execution_count": 58,
     "metadata": {},
     "output_type": "execute_result"
    }
   ],
   "source": [
    "len(shareData)"
   ]
  },
  {
   "cell_type": "code",
   "execution_count": 59,
   "metadata": {},
   "outputs": [
    {
     "name": "stdout",
     "output_type": "stream",
     "text": [
      "2017-05-02 00:00:00\n",
      "2017-06-02 00:00:00\n"
     ]
    }
   ],
   "source": [
    "dt1 = '2017-05-02'\n",
    "dt2 = '2017-06-02'\n",
    "date1 = pd.to_datetime(dt1)\n",
    "date2 = pd.to_datetime(dt2)\n",
    "print(date1)\n",
    "print(date2)"
   ]
  },
  {
   "cell_type": "code",
   "execution_count": 60,
   "metadata": {},
   "outputs": [
    {
     "data": {
      "text/html": [
       "<div>\n",
       "<style scoped>\n",
       "    .dataframe tbody tr th:only-of-type {\n",
       "        vertical-align: middle;\n",
       "    }\n",
       "\n",
       "    .dataframe tbody tr th {\n",
       "        vertical-align: top;\n",
       "    }\n",
       "\n",
       "    .dataframe thead th {\n",
       "        text-align: right;\n",
       "    }\n",
       "</style>\n",
       "<table border=\"1\" class=\"dataframe\">\n",
       "  <thead>\n",
       "    <tr style=\"text-align: right;\">\n",
       "      <th></th>\n",
       "      <th>Open Price</th>\n",
       "      <th>High Price</th>\n",
       "      <th>Low Price</th>\n",
       "      <th>Close Price</th>\n",
       "      <th>TimeStamp</th>\n",
       "    </tr>\n",
       "  </thead>\n",
       "  <tbody>\n",
       "    <tr>\n",
       "      <th>145</th>\n",
       "      <td>134.90</td>\n",
       "      <td>145.00</td>\n",
       "      <td>133.00</td>\n",
       "      <td>142.65</td>\n",
       "      <td>2017-06-01</td>\n",
       "    </tr>\n",
       "    <tr>\n",
       "      <th>146</th>\n",
       "      <td>131.75</td>\n",
       "      <td>136.55</td>\n",
       "      <td>131.75</td>\n",
       "      <td>136.10</td>\n",
       "      <td>2017-05-31</td>\n",
       "    </tr>\n",
       "    <tr>\n",
       "      <th>147</th>\n",
       "      <td>132.70</td>\n",
       "      <td>136.80</td>\n",
       "      <td>131.00</td>\n",
       "      <td>133.80</td>\n",
       "      <td>2017-05-30</td>\n",
       "    </tr>\n",
       "    <tr>\n",
       "      <th>148</th>\n",
       "      <td>131.00</td>\n",
       "      <td>137.95</td>\n",
       "      <td>130.00</td>\n",
       "      <td>134.30</td>\n",
       "      <td>2017-05-29</td>\n",
       "    </tr>\n",
       "    <tr>\n",
       "      <th>149</th>\n",
       "      <td>128.00</td>\n",
       "      <td>138.05</td>\n",
       "      <td>127.50</td>\n",
       "      <td>132.40</td>\n",
       "      <td>2017-05-26</td>\n",
       "    </tr>\n",
       "    <tr>\n",
       "      <th>150</th>\n",
       "      <td>125.40</td>\n",
       "      <td>130.50</td>\n",
       "      <td>123.00</td>\n",
       "      <td>128.10</td>\n",
       "      <td>2017-05-25</td>\n",
       "    </tr>\n",
       "    <tr>\n",
       "      <th>151</th>\n",
       "      <td>127.20</td>\n",
       "      <td>128.00</td>\n",
       "      <td>121.75</td>\n",
       "      <td>123.35</td>\n",
       "      <td>2017-05-24</td>\n",
       "    </tr>\n",
       "    <tr>\n",
       "      <th>152</th>\n",
       "      <td>131.00</td>\n",
       "      <td>131.00</td>\n",
       "      <td>126.55</td>\n",
       "      <td>127.50</td>\n",
       "      <td>2017-05-23</td>\n",
       "    </tr>\n",
       "    <tr>\n",
       "      <th>153</th>\n",
       "      <td>129.00</td>\n",
       "      <td>133.50</td>\n",
       "      <td>126.45</td>\n",
       "      <td>131.40</td>\n",
       "      <td>2017-05-22</td>\n",
       "    </tr>\n",
       "    <tr>\n",
       "      <th>154</th>\n",
       "      <td>132.20</td>\n",
       "      <td>137.80</td>\n",
       "      <td>126.45</td>\n",
       "      <td>130.15</td>\n",
       "      <td>2017-05-19</td>\n",
       "    </tr>\n",
       "    <tr>\n",
       "      <th>155</th>\n",
       "      <td>130.00</td>\n",
       "      <td>134.45</td>\n",
       "      <td>125.00</td>\n",
       "      <td>130.85</td>\n",
       "      <td>2017-05-18</td>\n",
       "    </tr>\n",
       "    <tr>\n",
       "      <th>156</th>\n",
       "      <td>125.60</td>\n",
       "      <td>136.25</td>\n",
       "      <td>125.60</td>\n",
       "      <td>134.45</td>\n",
       "      <td>2017-05-17</td>\n",
       "    </tr>\n",
       "    <tr>\n",
       "      <th>157</th>\n",
       "      <td>132.00</td>\n",
       "      <td>134.30</td>\n",
       "      <td>124.60</td>\n",
       "      <td>126.90</td>\n",
       "      <td>2017-05-16</td>\n",
       "    </tr>\n",
       "    <tr>\n",
       "      <th>158</th>\n",
       "      <td>128.00</td>\n",
       "      <td>137.60</td>\n",
       "      <td>127.90</td>\n",
       "      <td>133.85</td>\n",
       "      <td>2017-05-15</td>\n",
       "    </tr>\n",
       "    <tr>\n",
       "      <th>159</th>\n",
       "      <td>117.50</td>\n",
       "      <td>128.00</td>\n",
       "      <td>116.70</td>\n",
       "      <td>124.65</td>\n",
       "      <td>2017-05-12</td>\n",
       "    </tr>\n",
       "    <tr>\n",
       "      <th>160</th>\n",
       "      <td>113.15</td>\n",
       "      <td>120.10</td>\n",
       "      <td>111.70</td>\n",
       "      <td>118.75</td>\n",
       "      <td>2017-05-11</td>\n",
       "    </tr>\n",
       "    <tr>\n",
       "      <th>161</th>\n",
       "      <td>111.60</td>\n",
       "      <td>115.20</td>\n",
       "      <td>109.00</td>\n",
       "      <td>113.60</td>\n",
       "      <td>2017-05-10</td>\n",
       "    </tr>\n",
       "    <tr>\n",
       "      <th>162</th>\n",
       "      <td>113.45</td>\n",
       "      <td>115.00</td>\n",
       "      <td>110.55</td>\n",
       "      <td>111.75</td>\n",
       "      <td>2017-05-09</td>\n",
       "    </tr>\n",
       "    <tr>\n",
       "      <th>163</th>\n",
       "      <td>109.00</td>\n",
       "      <td>114.10</td>\n",
       "      <td>107.05</td>\n",
       "      <td>112.70</td>\n",
       "      <td>2017-05-08</td>\n",
       "    </tr>\n",
       "    <tr>\n",
       "      <th>164</th>\n",
       "      <td>115.00</td>\n",
       "      <td>117.40</td>\n",
       "      <td>108.10</td>\n",
       "      <td>109.65</td>\n",
       "      <td>2017-05-05</td>\n",
       "    </tr>\n",
       "    <tr>\n",
       "      <th>165</th>\n",
       "      <td>98.20</td>\n",
       "      <td>115.25</td>\n",
       "      <td>97.95</td>\n",
       "      <td>112.65</td>\n",
       "      <td>2017-05-04</td>\n",
       "    </tr>\n",
       "    <tr>\n",
       "      <th>166</th>\n",
       "      <td>101.00</td>\n",
       "      <td>101.00</td>\n",
       "      <td>98.20</td>\n",
       "      <td>98.35</td>\n",
       "      <td>2017-05-03</td>\n",
       "    </tr>\n",
       "  </tbody>\n",
       "</table>\n",
       "</div>"
      ],
      "text/plain": [
       "     Open Price  High Price  Low Price  Close Price  TimeStamp\n",
       "145      134.90      145.00     133.00       142.65 2017-06-01\n",
       "146      131.75      136.55     131.75       136.10 2017-05-31\n",
       "147      132.70      136.80     131.00       133.80 2017-05-30\n",
       "148      131.00      137.95     130.00       134.30 2017-05-29\n",
       "149      128.00      138.05     127.50       132.40 2017-05-26\n",
       "150      125.40      130.50     123.00       128.10 2017-05-25\n",
       "151      127.20      128.00     121.75       123.35 2017-05-24\n",
       "152      131.00      131.00     126.55       127.50 2017-05-23\n",
       "153      129.00      133.50     126.45       131.40 2017-05-22\n",
       "154      132.20      137.80     126.45       130.15 2017-05-19\n",
       "155      130.00      134.45     125.00       130.85 2017-05-18\n",
       "156      125.60      136.25     125.60       134.45 2017-05-17\n",
       "157      132.00      134.30     124.60       126.90 2017-05-16\n",
       "158      128.00      137.60     127.90       133.85 2017-05-15\n",
       "159      117.50      128.00     116.70       124.65 2017-05-12\n",
       "160      113.15      120.10     111.70       118.75 2017-05-11\n",
       "161      111.60      115.20     109.00       113.60 2017-05-10\n",
       "162      113.45      115.00     110.55       111.75 2017-05-09\n",
       "163      109.00      114.10     107.05       112.70 2017-05-08\n",
       "164      115.00      117.40     108.10       109.65 2017-05-05\n",
       "165       98.20      115.25      97.95       112.65 2017-05-04\n",
       "166      101.00      101.00      98.20        98.35 2017-05-03"
      ]
     },
     "execution_count": 60,
     "metadata": {},
     "output_type": "execute_result"
    }
   ],
   "source": [
    "shareData[(date1 < shareData.TimeStamp) & (shareData.TimeStamp < date2)]"
   ]
  },
  {
   "cell_type": "code",
   "execution_count": 61,
   "metadata": {},
   "outputs": [
    {
     "data": {
      "text/plain": [
       "22"
      ]
     },
     "execution_count": 61,
     "metadata": {},
     "output_type": "execute_result"
    }
   ],
   "source": [
    "len(shareData[(date1 < shareData.TimeStamp) & (shareData.TimeStamp < date2)])"
   ]
  },
  {
   "cell_type": "markdown",
   "metadata": {},
   "source": []
  },
  {
   "cell_type": "markdown",
   "metadata": {},
   "source": []
  },
  {
   "cell_type": "markdown",
   "metadata": {},
   "source": []
  },
  {
   "cell_type": "markdown",
   "metadata": {},
   "source": [
    "Do not put on web or share notes without written permission.\n",
    "Notes created By Reshma"
   ]
  },
  {
   "cell_type": "markdown",
   "metadata": {},
   "source": []
  }
 ],
 "metadata": {
  "kernelspec": {
   "display_name": "Python 3 (ipykernel)",
   "language": "python",
   "name": "python3"
  },
  "language_info": {
   "codemirror_mode": {
    "name": "ipython",
    "version": 3
   },
   "file_extension": ".py",
   "mimetype": "text/x-python",
   "name": "python",
   "nbconvert_exporter": "python",
   "pygments_lexer": "ipython3",
   "version": "3.9.12"
  }
 },
 "nbformat": 4,
 "nbformat_minor": 4
}
