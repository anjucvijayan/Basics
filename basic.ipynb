{
 "cells": [
  {
   "cell_type": "code",
   "execution_count": 1,
   "id": "0bcf3699",
   "metadata": {},
   "outputs": [
    {
     "name": "stdout",
     "output_type": "stream",
     "text": [
      "30\n"
     ]
    }
   ],
   "source": [
    "a = 10\n",
    "b= 20\n",
    "c=a+b\n",
    "print(c)"
   ]
  },
  {
   "cell_type": "code",
   "execution_count": 2,
   "id": "2345720f",
   "metadata": {},
   "outputs": [
    {
     "data": {
      "text/plain": [
       "30"
      ]
     },
     "execution_count": 2,
     "metadata": {},
     "output_type": "execute_result"
    }
   ],
   "source": [
    "c"
   ]
  },
  {
   "cell_type": "code",
   "execution_count": 3,
   "id": "4e59e74f",
   "metadata": {},
   "outputs": [
    {
     "name": "stdout",
     "output_type": "stream",
     "text": [
      "welcome\n"
     ]
    }
   ],
   "source": [
    "print('welcome')"
   ]
  },
  {
   "cell_type": "code",
   "execution_count": 4,
   "id": "0c8644d5",
   "metadata": {},
   "outputs": [
    {
     "data": {
      "text/plain": [
       "'veena'"
      ]
     },
     "execution_count": 4,
     "metadata": {},
     "output_type": "execute_result"
    }
   ],
   "source": [
    "name=\"veena\"\n",
    "name"
   ]
  },
  {
   "cell_type": "code",
   "execution_count": 5,
   "id": "ebc55233",
   "metadata": {},
   "outputs": [
    {
     "name": "stdout",
     "output_type": "stream",
     "text": [
      "veena\n"
     ]
    }
   ],
   "source": [
    "print(name)"
   ]
  },
  {
   "cell_type": "code",
   "execution_count": 6,
   "id": "26a50a7e",
   "metadata": {},
   "outputs": [
    {
     "name": "stdout",
     "output_type": "stream",
     "text": [
      "i am  venna\n"
     ]
    }
   ],
   "source": [
    "n='venna'\n",
    "print(\"i am \",n)"
   ]
  },
  {
   "cell_type": "code",
   "execution_count": 8,
   "id": "904c50c0",
   "metadata": {},
   "outputs": [
    {
     "name": "stdout",
     "output_type": "stream",
     "text": [
      "lakshmi and chinnu\n",
      "data science\n"
     ]
    }
   ],
   "source": [
    "name1=\"lakshmi\"\n",
    "name2= 'chinnu'\n",
    "branch = \"data science\"\n",
    "print(name1+ \" and \" +name2)\n",
    "print(branch)"
   ]
  },
  {
   "cell_type": "markdown",
   "id": "325e7b71",
   "metadata": {},
   "source": [
    "# identifiers"
   ]
  },
  {
   "cell_type": "code",
   "execution_count": 9,
   "id": "f9585c06",
   "metadata": {},
   "outputs": [
    {
     "name": "stdout",
     "output_type": "stream",
     "text": [
      "10\n"
     ]
    }
   ],
   "source": [
    "num= 10\n",
    "print(num)"
   ]
  },
  {
   "cell_type": "code",
   "execution_count": 10,
   "id": "be59aa48",
   "metadata": {},
   "outputs": [
    {
     "ename": "SyntaxError",
     "evalue": "invalid syntax (2621160559.py, line 1)",
     "output_type": "error",
     "traceback": [
      "\u001b[1;36m  Input \u001b[1;32mIn [10]\u001b[1;36m\u001b[0m\n\u001b[1;33m    @ad=41\u001b[0m\n\u001b[1;37m       ^\u001b[0m\n\u001b[1;31mSyntaxError\u001b[0m\u001b[1;31m:\u001b[0m invalid syntax\n"
     ]
    }
   ],
   "source": [
    "@ad=41"
   ]
  },
  {
   "cell_type": "code",
   "execution_count": 11,
   "id": "18e8f122",
   "metadata": {},
   "outputs": [
    {
     "name": "stdout",
     "output_type": "stream",
     "text": [
      "10\n"
     ]
    }
   ],
   "source": [
    "_a=10\n",
    "print(_a)"
   ]
  },
  {
   "cell_type": "code",
   "execution_count": 12,
   "id": "26c7a8ec",
   "metadata": {},
   "outputs": [
    {
     "name": "stdout",
     "output_type": "stream",
     "text": [
      "20\n"
     ]
    }
   ],
   "source": [
    "x_y =20\n",
    "print(x_y)"
   ]
  },
  {
   "cell_type": "markdown",
   "id": "d0c1229b",
   "metadata": {},
   "source": [
    "# Variables"
   ]
  },
  {
   "cell_type": "code",
   "execution_count": 13,
   "id": "67b1da56",
   "metadata": {},
   "outputs": [
    {
     "name": "stdout",
     "output_type": "stream",
     "text": [
      "orange\n"
     ]
    }
   ],
   "source": [
    "a=\"orange\"\n",
    "print(a)"
   ]
  },
  {
   "cell_type": "code",
   "execution_count": 14,
   "id": "bbdd9064",
   "metadata": {},
   "outputs": [
    {
     "data": {
      "text/plain": [
       "'orange'"
      ]
     },
     "execution_count": 14,
     "metadata": {},
     "output_type": "execute_result"
    }
   ],
   "source": [
    "a"
   ]
  },
  {
   "cell_type": "code",
   "execution_count": 15,
   "id": "2790e3dc",
   "metadata": {},
   "outputs": [
    {
     "data": {
      "text/plain": [
       "str"
      ]
     },
     "execution_count": 15,
     "metadata": {},
     "output_type": "execute_result"
    }
   ],
   "source": [
    "type(a)"
   ]
  },
  {
   "cell_type": "code",
   "execution_count": 16,
   "id": "802db1ec",
   "metadata": {},
   "outputs": [
    {
     "name": "stdout",
     "output_type": "stream",
     "text": [
      "20\n"
     ]
    },
    {
     "data": {
      "text/plain": [
       "int"
      ]
     },
     "execution_count": 16,
     "metadata": {},
     "output_type": "execute_result"
    }
   ],
   "source": [
    "b=20\n",
    "print(b)\n",
    "type(b)"
   ]
  },
  {
   "cell_type": "code",
   "execution_count": 17,
   "id": "75643fd0",
   "metadata": {},
   "outputs": [
    {
     "data": {
      "text/plain": [
       "float"
      ]
     },
     "execution_count": 17,
     "metadata": {},
     "output_type": "execute_result"
    }
   ],
   "source": [
    "c=2.2\n",
    "type(c)"
   ]
  },
  {
   "cell_type": "code",
   "execution_count": 18,
   "id": "4f297f0a",
   "metadata": {},
   "outputs": [
    {
     "data": {
      "text/plain": [
       "60"
      ]
     },
     "execution_count": 18,
     "metadata": {},
     "output_type": "execute_result"
    }
   ],
   "source": [
    "a=60\n",
    "b=a\n",
    "a"
   ]
  },
  {
   "cell_type": "code",
   "execution_count": 19,
   "id": "57f08fc0",
   "metadata": {},
   "outputs": [
    {
     "data": {
      "text/plain": [
       "30"
      ]
     },
     "execution_count": 19,
     "metadata": {},
     "output_type": "execute_result"
    }
   ],
   "source": [
    "#multiple assignment\n",
    "x=y=z=d=30\n",
    "d"
   ]
  },
  {
   "cell_type": "code",
   "execution_count": 20,
   "id": "e5b1cc7b",
   "metadata": {},
   "outputs": [
    {
     "data": {
      "text/plain": [
       "30"
      ]
     },
     "execution_count": 20,
     "metadata": {},
     "output_type": "execute_result"
    }
   ],
   "source": [
    "z"
   ]
  },
  {
   "cell_type": "markdown",
   "id": "f97dec46",
   "metadata": {},
   "source": [
    "# Deleting variables"
   ]
  },
  {
   "cell_type": "code",
   "execution_count": 21,
   "id": "68670f6b",
   "metadata": {},
   "outputs": [
    {
     "name": "stdout",
     "output_type": "stream",
     "text": [
      "6\n"
     ]
    }
   ],
   "source": [
    "x=6\n",
    "print(x)"
   ]
  },
  {
   "cell_type": "code",
   "execution_count": 22,
   "id": "5293c2b2",
   "metadata": {},
   "outputs": [
    {
     "ename": "NameError",
     "evalue": "name 'x' is not defined",
     "output_type": "error",
     "traceback": [
      "\u001b[1;31m---------------------------------------------------------------------------\u001b[0m",
      "\u001b[1;31mNameError\u001b[0m                                 Traceback (most recent call last)",
      "Input \u001b[1;32mIn [22]\u001b[0m, in \u001b[0;36m<cell line: 2>\u001b[1;34m()\u001b[0m\n\u001b[0;32m      1\u001b[0m \u001b[38;5;28;01mdel\u001b[39;00m(x)\n\u001b[1;32m----> 2\u001b[0m \u001b[38;5;28mprint\u001b[39m(\u001b[43mx\u001b[49m)\n",
      "\u001b[1;31mNameError\u001b[0m: name 'x' is not defined"
     ]
    }
   ],
   "source": [
    "del(x)\n",
    "print(x)"
   ]
  },
  {
   "cell_type": "code",
   "execution_count": 23,
   "id": "117218f1",
   "metadata": {},
   "outputs": [
    {
     "name": "stdout",
     "output_type": "stream",
     "text": [
      "5 6\n"
     ]
    }
   ],
   "source": [
    "#printing multiple values\n",
    "a=5\n",
    "b=6\n",
    "print(a,b)"
   ]
  },
  {
   "cell_type": "markdown",
   "id": "f7ad9ef9",
   "metadata": {},
   "source": [
    "# Numbers"
   ]
  },
  {
   "cell_type": "code",
   "execution_count": 24,
   "id": "60cc45b4",
   "metadata": {},
   "outputs": [
    {
     "data": {
      "text/plain": [
       "1"
      ]
     },
     "execution_count": 24,
     "metadata": {},
     "output_type": "execute_result"
    }
   ],
   "source": [
    "x=1 #int\n",
    "y=2.8 #float\n",
    "z=1j #complex\n",
    "x"
   ]
  },
  {
   "cell_type": "code",
   "execution_count": 25,
   "id": "41da9077",
   "metadata": {},
   "outputs": [
    {
     "data": {
      "text/plain": [
       "2.8"
      ]
     },
     "execution_count": 25,
     "metadata": {},
     "output_type": "execute_result"
    }
   ],
   "source": [
    "y"
   ]
  },
  {
   "cell_type": "code",
   "execution_count": 26,
   "id": "f19d99a2",
   "metadata": {},
   "outputs": [
    {
     "data": {
      "text/plain": [
       "complex"
      ]
     },
     "execution_count": 26,
     "metadata": {},
     "output_type": "execute_result"
    }
   ],
   "source": [
    "type(z)"
   ]
  },
  {
   "cell_type": "code",
   "execution_count": 27,
   "id": "3f099ed2",
   "metadata": {},
   "outputs": [
    {
     "name": "stdout",
     "output_type": "stream",
     "text": [
      "6\n",
      "3 3\n"
     ]
    },
    {
     "data": {
      "text/plain": [
       "0"
      ]
     },
     "execution_count": 27,
     "metadata": {},
     "output_type": "execute_result"
    }
   ],
   "source": [
    "a=3\n",
    "b=3\n",
    "print(a+b)\n",
    "print(a,b)\n",
    "a-b"
   ]
  },
  {
   "cell_type": "markdown",
   "id": "5e97a2f7",
   "metadata": {},
   "source": [
    "# TYPE CONVERTION"
   ]
  },
  {
   "cell_type": "code",
   "execution_count": 28,
   "id": "1c6d3b22",
   "metadata": {},
   "outputs": [
    {
     "data": {
      "text/plain": [
       "1.0"
      ]
     },
     "execution_count": 28,
     "metadata": {},
     "output_type": "execute_result"
    }
   ],
   "source": [
    "X=1\n",
    "Y=2.8\n",
    "Z=1J\n",
    "a=float(X)\n",
    "a"
   ]
  },
  {
   "cell_type": "code",
   "execution_count": 30,
   "id": "43f8b144",
   "metadata": {},
   "outputs": [
    {
     "data": {
      "text/plain": [
       "2"
      ]
     },
     "execution_count": 30,
     "metadata": {},
     "output_type": "execute_result"
    }
   ],
   "source": [
    "b=int(Y)\n",
    "b"
   ]
  },
  {
   "cell_type": "code",
   "execution_count": 32,
   "id": "cd5eff21",
   "metadata": {},
   "outputs": [
    {
     "data": {
      "text/plain": [
       "(1+0j)"
      ]
     },
     "execution_count": 32,
     "metadata": {},
     "output_type": "execute_result"
    }
   ],
   "source": [
    "c=complex(X)\n",
    "c"
   ]
  },
  {
   "cell_type": "code",
   "execution_count": 33,
   "id": "bf701378",
   "metadata": {},
   "outputs": [
    {
     "name": "stdout",
     "output_type": "stream",
     "text": [
      "1.0\n",
      "<class 'float'>\n"
     ]
    }
   ],
   "source": [
    "print(a)\n",
    "print(type(a))"
   ]
  },
  {
   "cell_type": "code",
   "execution_count": 34,
   "id": "49dc90a5",
   "metadata": {},
   "outputs": [
    {
     "name": "stdout",
     "output_type": "stream",
     "text": [
      "7.5\n"
     ]
    }
   ],
   "source": [
    "a=15\n",
    "b=2\n",
    "print(a/b)"
   ]
  },
  {
   "cell_type": "code",
   "execution_count": 35,
   "id": "f0942577",
   "metadata": {},
   "outputs": [
    {
     "name": "stdout",
     "output_type": "stream",
     "text": [
      "1\n"
     ]
    }
   ],
   "source": [
    "print(a%b)"
   ]
  },
  {
   "cell_type": "markdown",
   "id": "19c224e8",
   "metadata": {},
   "source": [
    "# Strings"
   ]
  },
  {
   "cell_type": "code",
   "execution_count": 36,
   "id": "55da13f0",
   "metadata": {},
   "outputs": [
    {
     "data": {
      "text/plain": [
       "'trivandrum'"
      ]
     },
     "execution_count": 36,
     "metadata": {},
     "output_type": "execute_result"
    }
   ],
   "source": [
    "place='trivandrum'\n",
    "place"
   ]
  },
  {
   "cell_type": "code",
   "execution_count": 37,
   "id": "c58d83de",
   "metadata": {
    "scrolled": true
   },
   "outputs": [
    {
     "data": {
      "text/plain": [
       "'kerala'"
      ]
     },
     "execution_count": 37,
     "metadata": {},
     "output_type": "execute_result"
    }
   ],
   "source": [
    "a='kerala'\n",
    "a"
   ]
  },
  {
   "cell_type": "code",
   "execution_count": 38,
   "id": "b07b8a79",
   "metadata": {},
   "outputs": [
    {
     "data": {
      "text/plain": [
       "6"
      ]
     },
     "execution_count": 38,
     "metadata": {},
     "output_type": "execute_result"
    }
   ],
   "source": [
    "len(a)"
   ]
  },
  {
   "cell_type": "code",
   "execution_count": 39,
   "id": "ce6237d0",
   "metadata": {},
   "outputs": [
    {
     "name": "stdout",
     "output_type": "stream",
     "text": [
      "10\n"
     ]
    }
   ],
   "source": [
    "print(len(place))"
   ]
  },
  {
   "cell_type": "code",
   "execution_count": null,
   "id": "763ae55b",
   "metadata": {},
   "outputs": [],
   "source": [
    "#combaining two cells"
   ]
  },
  {
   "cell_type": "code",
   "execution_count": 42,
   "id": "90d06ba9",
   "metadata": {},
   "outputs": [
    {
     "name": "stdout",
     "output_type": "stream",
     "text": [
      "unity in diversity\n"
     ]
    }
   ],
   "source": [
    "a='unity in '\n",
    "b='diversity'\n",
    "s=a+ b\n",
    "print(s)"
   ]
  },
  {
   "cell_type": "code",
   "execution_count": 43,
   "id": "acbc05c8",
   "metadata": {},
   "outputs": [
    {
     "data": {
      "text/plain": [
       "'unity in diversity'"
      ]
     },
     "execution_count": 43,
     "metadata": {},
     "output_type": "execute_result"
    }
   ],
   "source": [
    "a+b"
   ]
  },
  {
   "cell_type": "code",
   "execution_count": 44,
   "id": "c96e183b",
   "metadata": {},
   "outputs": [
    {
     "data": {
      "text/plain": [
       "'m'"
      ]
     },
     "execution_count": 44,
     "metadata": {},
     "output_type": "execute_result"
    }
   ],
   "source": [
    "x= \"hi good morning\"\n",
    "x[8]"
   ]
  },
  {
   "cell_type": "code",
   "execution_count": 45,
   "id": "62268d7c",
   "metadata": {},
   "outputs": [
    {
     "data": {
      "text/plain": [
       "'i goo'"
      ]
     },
     "execution_count": 45,
     "metadata": {},
     "output_type": "execute_result"
    }
   ],
   "source": [
    "x[1:6]"
   ]
  },
  {
   "cell_type": "code",
   "execution_count": 47,
   "id": "2c15707c",
   "metadata": {},
   "outputs": [
    {
     "data": {
      "text/plain": [
       "'hi good morning, how are you '"
      ]
     },
     "execution_count": 47,
     "metadata": {},
     "output_type": "execute_result"
    }
   ],
   "source": [
    "y=x + \", how are you \"\n",
    "y"
   ]
  },
  {
   "cell_type": "markdown",
   "id": "112733bd",
   "metadata": {},
   "source": [
    "# to get first letter as capital"
   ]
  },
  {
   "cell_type": "code",
   "execution_count": 48,
   "id": "c48ef2e6",
   "metadata": {},
   "outputs": [
    {
     "data": {
      "text/plain": [
       "'Twinkle'"
      ]
     },
     "execution_count": 48,
     "metadata": {},
     "output_type": "execute_result"
    }
   ],
   "source": [
    "z='twinkle'\n",
    "z.capitalize()"
   ]
  },
  {
   "cell_type": "code",
   "execution_count": 49,
   "id": "afb7ac0b",
   "metadata": {},
   "outputs": [
    {
     "name": "stdout",
     "output_type": "stream",
     "text": [
      "TWINKLE\n"
     ]
    }
   ],
   "source": [
    "print(z.upper())"
   ]
  },
  {
   "cell_type": "code",
   "execution_count": 50,
   "id": "34ed0b83",
   "metadata": {},
   "outputs": [
    {
     "data": {
      "text/plain": [
       "'twinkle'"
      ]
     },
     "execution_count": 50,
     "metadata": {},
     "output_type": "execute_result"
    }
   ],
   "source": [
    "z.lower()"
   ]
  },
  {
   "cell_type": "code",
   "execution_count": 51,
   "id": "ba486cd7",
   "metadata": {},
   "outputs": [
    {
     "data": {
      "text/plain": [
       "'TWINKLE'"
      ]
     },
     "execution_count": 51,
     "metadata": {},
     "output_type": "execute_result"
    }
   ],
   "source": [
    "z.upper()"
   ]
  },
  {
   "cell_type": "code",
   "execution_count": 52,
   "id": "9c0c9eee",
   "metadata": {},
   "outputs": [
    {
     "data": {
      "text/plain": [
       "'azs'"
      ]
     },
     "execution_count": 52,
     "metadata": {},
     "output_type": "execute_result"
    }
   ],
   "source": [
    "a=\"aps\"\n",
    "a.replace(\"p\",\"z\")"
   ]
  },
  {
   "cell_type": "code",
   "execution_count": 54,
   "id": "53ecc03a",
   "metadata": {},
   "outputs": [
    {
     "data": {
      "text/plain": [
       "[2, 3, 4, 6]"
      ]
     },
     "execution_count": 54,
     "metadata": {},
     "output_type": "execute_result"
    }
   ],
   "source": [
    "a=[2,3,4]\n",
    "a.insert(4,6)\n",
    "a"
   ]
  },
  {
   "cell_type": "code",
   "execution_count": 56,
   "id": "1cbe8dd2",
   "metadata": {},
   "outputs": [
    {
     "data": {
      "text/plain": [
       "[6, 2, 3, 4]"
      ]
     },
     "execution_count": 56,
     "metadata": {},
     "output_type": "execute_result"
    }
   ],
   "source": [
    "a=[1,2,3,4]\n",
    "a[0]=6\n",
    "a"
   ]
  },
  {
   "cell_type": "markdown",
   "id": "b9de9d71",
   "metadata": {},
   "source": [
    "# DATA TYPES"
   ]
  },
  {
   "cell_type": "markdown",
   "id": "b1bc0dee",
   "metadata": {},
   "source": [
    "Data structure in Python \n",
    "\n",
    "Data structures allows to organise data in such a way that enables you to collection the data, relate them, and perform operations on them accordingly."
   ]
  },
  {
   "cell_type": "markdown",
   "id": "72794ef0",
   "metadata": {},
   "source": [
    "Built in Data structures\n",
    "\n",
    "List\n",
    "\n",
    "Dictionary\n",
    "\n",
    "Tuples\n",
    "\n",
    "Set"
   ]
  },
  {
   "cell_type": "markdown",
   "id": "3521735d",
   "metadata": {},
   "source": [
    "2 types\n",
    "\n",
    "1.Built in Data structures\n",
    "\n",
    "2.User defined Data structures"
   ]
  },
  {
   "cell_type": "markdown",
   "id": "d8aa63b5",
   "metadata": {},
   "source": [
    "2.User defined Data structures \n",
    "Stack \n",
    "\n",
    "Queue\n",
    "\n",
    "Tree \n",
    "\n",
    "LinkedIn\n",
    "\n",
    "Graph"
   ]
  },
  {
   "cell_type": "markdown",
   "id": "22396b5c",
   "metadata": {},
   "source": [
    "# 1.LISTS"
   ]
  },
  {
   "cell_type": "markdown",
   "id": "f4d26d24",
   "metadata": {},
   "source": [
    "A list is a data structure in Python that is a mutable, or changeable, ordered sequence of elements. Each element or value that is inside of a list is called an item. lists are defined by having values between square brackets."
   ]
  },
  {
   "cell_type": "markdown",
   "id": "30951dcf",
   "metadata": {},
   "source": [
    "used to store multiple items in a single variable \n",
    "operations can not done to all elements\n",
    "is built in data type"
   ]
  },
  {
   "cell_type": "code",
   "execution_count": null,
   "id": "7c909fa4",
   "metadata": {},
   "outputs": [],
   "source": [
    "#INDEXING\n",
    "#indexing starts from 0"
   ]
  },
  {
   "cell_type": "code",
   "execution_count": 57,
   "id": "7eeccb94",
   "metadata": {},
   "outputs": [
    {
     "data": {
      "text/plain": [
       "'APPLE'"
      ]
     },
     "execution_count": 57,
     "metadata": {},
     "output_type": "execute_result"
    }
   ],
   "source": [
    "L=['ORANGE','GUAVA','APPLE']\n",
    "L[2]"
   ]
  },
  {
   "cell_type": "code",
   "execution_count": 58,
   "id": "ef3a9521",
   "metadata": {},
   "outputs": [
    {
     "data": {
      "text/plain": [
       "'GUAVA'"
      ]
     },
     "execution_count": 58,
     "metadata": {},
     "output_type": "execute_result"
    }
   ],
   "source": [
    "L[1]"
   ]
  },
  {
   "cell_type": "code",
   "execution_count": 59,
   "id": "276b2f02",
   "metadata": {},
   "outputs": [
    {
     "data": {
      "text/plain": [
       "'ORANGE'"
      ]
     },
     "execution_count": 59,
     "metadata": {},
     "output_type": "execute_result"
    }
   ],
   "source": [
    "L[0]"
   ]
  },
  {
   "cell_type": "code",
   "execution_count": 60,
   "id": "aa3f3871",
   "metadata": {},
   "outputs": [
    {
     "data": {
      "text/plain": [
       "[1, 2, 3, 4, 5, 6]"
      ]
     },
     "execution_count": 60,
     "metadata": {},
     "output_type": "execute_result"
    }
   ],
   "source": [
    "L1=[1,2,3,4,5,6]\n",
    "L1"
   ]
  },
  {
   "cell_type": "code",
   "execution_count": 61,
   "id": "912d67fe",
   "metadata": {},
   "outputs": [
    {
     "data": {
      "text/plain": [
       "4"
      ]
     },
     "execution_count": 61,
     "metadata": {},
     "output_type": "execute_result"
    }
   ],
   "source": [
    "L1[3]"
   ]
  },
  {
   "cell_type": "code",
   "execution_count": 62,
   "id": "8417afed",
   "metadata": {},
   "outputs": [
    {
     "data": {
      "text/plain": [
       "5"
      ]
     },
     "execution_count": 62,
     "metadata": {},
     "output_type": "execute_result"
    }
   ],
   "source": [
    "L1[4]"
   ]
  },
  {
   "cell_type": "markdown",
   "id": "ac0f047a",
   "metadata": {},
   "source": [
    "### 1 . sort()"
   ]
  },
  {
   "cell_type": "code",
   "execution_count": 63,
   "id": "a2179634",
   "metadata": {},
   "outputs": [
    {
     "data": {
      "text/plain": [
       "[1, 4, 6, 7, 8, 9, 10]"
      ]
     },
     "execution_count": 63,
     "metadata": {},
     "output_type": "execute_result"
    }
   ],
   "source": [
    "list0=[1,8,4,7,6,9,10]\n",
    "list0.sort()\n",
    "list0"
   ]
  },
  {
   "cell_type": "code",
   "execution_count": 64,
   "id": "97d8bd23",
   "metadata": {},
   "outputs": [
    {
     "data": {
      "text/plain": [
       "1"
      ]
     },
     "execution_count": 64,
     "metadata": {},
     "output_type": "execute_result"
    }
   ],
   "source": [
    "list0[0]"
   ]
  },
  {
   "cell_type": "markdown",
   "id": "09a21604",
   "metadata": {},
   "source": [
    "### reverse()"
   ]
  },
  {
   "cell_type": "code",
   "execution_count": null,
   "id": "0c0962bd",
   "metadata": {},
   "outputs": [],
   "source": [
    "#Reverse the order"
   ]
  },
  {
   "cell_type": "code",
   "execution_count": 2,
   "id": "4d47b4d7",
   "metadata": {},
   "outputs": [
    {
     "data": {
      "text/plain": [
       "[60, 45, 35, 30, 20]"
      ]
     },
     "execution_count": 2,
     "metadata": {},
     "output_type": "execute_result"
    }
   ],
   "source": [
    "L=[20,30,35,45,60]\n",
    "L.reverse()\n",
    "L"
   ]
  },
  {
   "cell_type": "markdown",
   "id": "466733db",
   "metadata": {},
   "source": [
    "### insert()"
   ]
  },
  {
   "cell_type": "code",
   "execution_count": 66,
   "id": "118bf26b",
   "metadata": {},
   "outputs": [
    {
     "data": {
      "text/plain": [
       "['a', 1, 2, 3, 'd', 'e']"
      ]
     },
     "execution_count": 66,
     "metadata": {},
     "output_type": "execute_result"
    }
   ],
   "source": [
    "L=['a','b','c','d','e']\n",
    "L[1:3]=[1,2,3]\n",
    "L"
   ]
  },
  {
   "cell_type": "code",
   "execution_count": 69,
   "id": "63e04377",
   "metadata": {},
   "outputs": [],
   "source": [
    "L1=['a','b','c','d','e']"
   ]
  },
  {
   "cell_type": "code",
   "execution_count": 70,
   "id": "df616880",
   "metadata": {},
   "outputs": [
    {
     "data": {
      "text/plain": [
       "[1, 2, 3, 'a', 'b', 'c', 'd', 'e']"
      ]
     },
     "execution_count": 70,
     "metadata": {},
     "output_type": "execute_result"
    }
   ],
   "source": [
    "#INSERT AT THE START\n",
    "L1[:0]=[1,2,3]\n",
    "L1"
   ]
  },
  {
   "cell_type": "code",
   "execution_count": 73,
   "id": "14a83df0",
   "metadata": {},
   "outputs": [
    {
     "data": {
      "text/plain": [
       "['a', 'b', 1, 2, 3, 'c', 'd', 'e']"
      ]
     },
     "execution_count": 73,
     "metadata": {},
     "output_type": "execute_result"
    }
   ],
   "source": [
    "#INSERT AT MIDDLE\n",
    "L1=['a','b','c','d','e']\n",
    "L1[2:2]=[1,2,3]\n",
    "L1"
   ]
  },
  {
   "cell_type": "code",
   "execution_count": 75,
   "id": "535ddb12",
   "metadata": {},
   "outputs": [
    {
     "data": {
      "text/plain": [
       "[]"
      ]
     },
     "execution_count": 75,
     "metadata": {},
     "output_type": "execute_result"
    }
   ],
   "source": [
    "#CREATE EMPTY LIST\n",
    "L1=['a','b','c','d','e']\n",
    "L1[0:5]=[]\n",
    "L1"
   ]
  },
  {
   "cell_type": "code",
   "execution_count": 76,
   "id": "b995984e",
   "metadata": {},
   "outputs": [
    {
     "data": {
      "text/plain": [
       "[]"
      ]
     },
     "execution_count": 76,
     "metadata": {},
     "output_type": "execute_result"
    }
   ],
   "source": [
    "L1[0:6]\n",
    "L1"
   ]
  },
  {
   "cell_type": "code",
   "execution_count": 77,
   "id": "283508f2",
   "metadata": {},
   "outputs": [
    {
     "data": {
      "text/plain": [
       "[1, 6, 7]"
      ]
     },
     "execution_count": 77,
     "metadata": {},
     "output_type": "execute_result"
    }
   ],
   "source": [
    "#DELETING A LIST\n",
    "L=[1,2,3,4,5,6,7]\n",
    "del L [1:5]\n",
    "L"
   ]
  },
  {
   "cell_type": "markdown",
   "id": "bad54bd6",
   "metadata": {},
   "source": [
    "# Append function"
   ]
  },
  {
   "cell_type": "code",
   "execution_count": 79,
   "id": "95c0ddf6",
   "metadata": {},
   "outputs": [
    {
     "data": {
      "text/plain": [
       "['ORANGE', 'GUAVA', 'APPLE', ['cherry', 'dates']]"
      ]
     },
     "execution_count": 79,
     "metadata": {},
     "output_type": "execute_result"
    }
   ],
   "source": [
    "L=['ORANGE','GUAVA','APPLE']\n",
    "L.append([\"cherry\",\"dates\"])\n",
    "L"
   ]
  },
  {
   "cell_type": "code",
   "execution_count": 81,
   "id": "a65cbcfc",
   "metadata": {},
   "outputs": [
    {
     "data": {
      "text/plain": [
       "['ORANGE', 'GUAVA', 'APPLE', 2, 4, 6]"
      ]
     },
     "execution_count": 81,
     "metadata": {},
     "output_type": "execute_result"
    }
   ],
   "source": [
    "L=['ORANGE','GUAVA','APPLE']\n",
    "L[len(L):]= [2,4,6]\n",
    "L"
   ]
  },
  {
   "cell_type": "code",
   "execution_count": 82,
   "id": "a35981ce",
   "metadata": {},
   "outputs": [
    {
     "data": {
      "text/plain": [
       "2"
      ]
     },
     "execution_count": 82,
     "metadata": {},
     "output_type": "execute_result"
    }
   ],
   "source": [
    "A=[1,3,7,5,7,3,6]\n",
    "A.count(7)"
   ]
  },
  {
   "cell_type": "code",
   "execution_count": 83,
   "id": "d728e85c",
   "metadata": {},
   "outputs": [
    {
     "data": {
      "text/plain": [
       "1"
      ]
     },
     "execution_count": 83,
     "metadata": {},
     "output_type": "execute_result"
    }
   ],
   "source": [
    "min(A)"
   ]
  },
  {
   "cell_type": "code",
   "execution_count": 84,
   "id": "2964ef2a",
   "metadata": {},
   "outputs": [
    {
     "data": {
      "text/plain": [
       "7"
      ]
     },
     "execution_count": 84,
     "metadata": {},
     "output_type": "execute_result"
    }
   ],
   "source": [
    "max(A)"
   ]
  },
  {
   "cell_type": "code",
   "execution_count": 86,
   "id": "7d62994d",
   "metadata": {},
   "outputs": [
    {
     "data": {
      "text/plain": [
       "[1, 3, 7, 7, 3, 6]"
      ]
     },
     "execution_count": 86,
     "metadata": {},
     "output_type": "execute_result"
    }
   ],
   "source": [
    "A=[1,3,7,5,7,3,6]\n",
    "A.remove(5)\n",
    "A"
   ]
  },
  {
   "cell_type": "code",
   "execution_count": 88,
   "id": "d4316b7d",
   "metadata": {},
   "outputs": [
    {
     "data": {
      "text/plain": [
       "[]"
      ]
     },
     "execution_count": 88,
     "metadata": {},
     "output_type": "execute_result"
    }
   ],
   "source": [
    "A.clear()\n",
    "A"
   ]
  },
  {
   "cell_type": "code",
   "execution_count": 9,
   "id": "b33b98c0",
   "metadata": {},
   "outputs": [],
   "source": [
    "#Create a list of 10 elements\n",
    "L =[1,2,3,5,6,7,8,9,10]"
   ]
  },
  {
   "cell_type": "code",
   "execution_count": 2,
   "id": "f77ab091",
   "metadata": {},
   "outputs": [
    {
     "data": {
      "text/plain": [
       "[5, 6, 7, 8, 9]"
      ]
     },
     "execution_count": 2,
     "metadata": {},
     "output_type": "execute_result"
    }
   ],
   "source": [
    "slice from 3 t0 8\n",
    "L[3:8]"
   ]
  },
  {
   "cell_type": "code",
   "execution_count": 10,
   "id": "db571349",
   "metadata": {},
   "outputs": [],
   "source": [
    "#add 5 items to it\n",
    "L.append(['a','b','c','d','e'])"
   ]
  },
  {
   "cell_type": "code",
   "execution_count": 11,
   "id": "392bb3bb",
   "metadata": {},
   "outputs": [
    {
     "data": {
      "text/plain": [
       "[1, 2, 3, 5, 6, 7, 8, 9, 10, ['a', 'b', 'c', 'd', 'e']]"
      ]
     },
     "execution_count": 11,
     "metadata": {},
     "output_type": "execute_result"
    }
   ],
   "source": [
    "L"
   ]
  },
  {
   "cell_type": "code",
   "execution_count": 12,
   "id": "afe4cf41",
   "metadata": {},
   "outputs": [
    {
     "data": {
      "text/plain": [
       "10"
      ]
     },
     "execution_count": 12,
     "metadata": {},
     "output_type": "execute_result"
    }
   ],
   "source": [
    "#find length\n",
    "len(L)"
   ]
  },
  {
   "cell_type": "code",
   "execution_count": 14,
   "id": "3f13fa26",
   "metadata": {},
   "outputs": [
    {
     "ename": "NameError",
     "evalue": "name 'L' is not defined",
     "output_type": "error",
     "traceback": [
      "\u001b[1;31m---------------------------------------------------------------------------\u001b[0m",
      "\u001b[1;31mNameError\u001b[0m                                 Traceback (most recent call last)",
      "\u001b[1;32m~\\AppData\\Local\\Temp\\ipykernel_19304\\49092857.py\u001b[0m in \u001b[0;36m<module>\u001b[1;34m\u001b[0m\n\u001b[1;32m----> 1\u001b[1;33m \u001b[1;32mdel\u001b[0m\u001b[1;33m(\u001b[0m\u001b[0mL\u001b[0m\u001b[1;33m)\u001b[0m\u001b[1;33m\u001b[0m\u001b[1;33m\u001b[0m\u001b[0m\n\u001b[0m\u001b[0;32m      2\u001b[0m \u001b[0mL\u001b[0m\u001b[1;33m\u001b[0m\u001b[1;33m\u001b[0m\u001b[0m\n",
      "\u001b[1;31mNameError\u001b[0m: name 'L' is not defined"
     ]
    }
   ],
   "source": [
    "del(L)\n",
    "L"
   ]
  },
  {
   "cell_type": "code",
   "execution_count": 16,
   "id": "2750babb",
   "metadata": {},
   "outputs": [],
   "source": [
    "L=[1,2,3,4,5,6,7,8,9,10]"
   ]
  },
  {
   "cell_type": "code",
   "execution_count": 17,
   "id": "50781058",
   "metadata": {},
   "outputs": [],
   "source": [
    "#INSERT 3 items without replace\n",
    "L[:0]=['a','b','c']"
   ]
  },
  {
   "cell_type": "code",
   "execution_count": 18,
   "id": "5f531bca",
   "metadata": {},
   "outputs": [
    {
     "data": {
      "text/plain": [
       "['a', 'b', 'c', 1, 2, 3, 4, 5, 6, 7, 8, 9, 10]"
      ]
     },
     "execution_count": 18,
     "metadata": {},
     "output_type": "execute_result"
    }
   ],
   "source": [
    "L"
   ]
  },
  {
   "cell_type": "code",
   "execution_count": 25,
   "id": "28674717",
   "metadata": {},
   "outputs": [
    {
     "data": {
      "text/plain": [
       "[1, 3, 4, 5, 6, 7, 8, 9, 10]"
      ]
     },
     "execution_count": 25,
     "metadata": {},
     "output_type": "execute_result"
    }
   ],
   "source": [
    "#remove some elemnts\n",
    "L=[1,2,3,4,5,6,7,8,9,10]\n",
    "L.remove(2)\n",
    "L"
   ]
  },
  {
   "cell_type": "code",
   "execution_count": 46,
   "id": "adc6fd83",
   "metadata": {},
   "outputs": [
    {
     "data": {
      "text/plain": [
       "[1, 4, 5, 6, 7, 8, 9, 10]"
      ]
     },
     "execution_count": 46,
     "metadata": {},
     "output_type": "execute_result"
    }
   ],
   "source": [
    "L=[1,2,3,4,5,6,7,8,9,10]\n",
    "del L[1:3]\n",
    "L"
   ]
  },
  {
   "cell_type": "code",
   "execution_count": 48,
   "id": "69248f38",
   "metadata": {},
   "outputs": [
    {
     "data": {
      "text/plain": [
       "[1, 2, 4, 7, 8, 9, 10]"
      ]
     },
     "execution_count": 48,
     "metadata": {},
     "output_type": "execute_result"
    }
   ],
   "source": [
    "L=[1,2,3,4,5,6,7,8,9,10]\n",
    "L= [e for e in L if e not in (3,5,6)]\n",
    "L"
   ]
  },
  {
   "cell_type": "code",
   "execution_count": 41,
   "id": "93da98e6",
   "metadata": {},
   "outputs": [],
   "source": [
    "L=[1,2,3,4,5,6,7,8,9,10]\n",
    "L.insert(6,'a')"
   ]
  },
  {
   "cell_type": "code",
   "execution_count": 42,
   "id": "0bb75381",
   "metadata": {},
   "outputs": [
    {
     "data": {
      "text/plain": [
       "[1, 2, 3, 4, 5, 6, 'a', 7, 8, 9, 10]"
      ]
     },
     "execution_count": 42,
     "metadata": {},
     "output_type": "execute_result"
    }
   ],
   "source": [
    "L"
   ]
  },
  {
   "cell_type": "code",
   "execution_count": null,
   "id": "ec854f2a",
   "metadata": {},
   "outputs": [],
   "source": [
    "L=[1,2,3,4,5,6,7,8,9,10]\n",
    "L.insert(6,'a')"
   ]
  },
  {
   "cell_type": "markdown",
   "id": "b04123d0",
   "metadata": {},
   "source": [
    "# tuple"
   ]
  },
  {
   "cell_type": "code",
   "execution_count": 3,
   "id": "3d14edef",
   "metadata": {},
   "outputs": [],
   "source": [
    "tuple1=(2.3,6.9,25,76,26,7)\n",
    "tuple2=('s','er','r','ggy','h')"
   ]
  },
  {
   "cell_type": "code",
   "execution_count": 4,
   "id": "4c2fd92a",
   "metadata": {},
   "outputs": [
    {
     "data": {
      "text/plain": [
       "2.3"
      ]
     },
     "execution_count": 4,
     "metadata": {},
     "output_type": "execute_result"
    }
   ],
   "source": [
    "tuple1[0]"
   ]
  },
  {
   "cell_type": "code",
   "execution_count": 7,
   "id": "6d2619f2",
   "metadata": {},
   "outputs": [
    {
     "data": {
      "text/plain": [
       "'h'"
      ]
     },
     "execution_count": 7,
     "metadata": {},
     "output_type": "execute_result"
    }
   ],
   "source": [
    "tuple2[4]"
   ]
  },
  {
   "cell_type": "code",
   "execution_count": 9,
   "id": "30a8987a",
   "metadata": {},
   "outputs": [
    {
     "data": {
      "text/plain": [
       "(2.3, 6.9, 25, 76, 26, 7, 's', 'er', 'r', 'ggy', 'h')"
      ]
     },
     "execution_count": 9,
     "metadata": {},
     "output_type": "execute_result"
    }
   ],
   "source": [
    "#concatination\n",
    "tuple3=tuple1+tuple2\n",
    "tuple3"
   ]
  },
  {
   "cell_type": "code",
   "execution_count": 10,
   "id": "043117c0",
   "metadata": {},
   "outputs": [
    {
     "name": "stdout",
     "output_type": "stream",
     "text": [
      "11\n"
     ]
    }
   ],
   "source": [
    "print(len(tuple3))"
   ]
  },
  {
   "cell_type": "code",
   "execution_count": 11,
   "id": "41ba5fad",
   "metadata": {},
   "outputs": [
    {
     "name": "stdout",
     "output_type": "stream",
     "text": [
      "<class 'tuple'>\n"
     ]
    }
   ],
   "source": [
    "print(type(tuple3))"
   ]
  },
  {
   "cell_type": "code",
   "execution_count": 12,
   "id": "de0f797c",
   "metadata": {},
   "outputs": [
    {
     "data": {
      "text/plain": [
       "[2.3, 6.9, 25, 76, 26, 7, 's', 'er', 'r', 'ggy', 'h']"
      ]
     },
     "execution_count": 12,
     "metadata": {},
     "output_type": "execute_result"
    }
   ],
   "source": [
    "#tuple to list\n",
    "list1=list(tuple3)\n",
    "list1"
   ]
  },
  {
   "cell_type": "code",
   "execution_count": 13,
   "id": "b8a6d13a",
   "metadata": {},
   "outputs": [],
   "source": [
    "list1.append(999)"
   ]
  },
  {
   "cell_type": "code",
   "execution_count": 14,
   "id": "8af8d285",
   "metadata": {},
   "outputs": [
    {
     "data": {
      "text/plain": [
       "[2.3, 6.9, 25, 76, 26, 7, 's', 'er', 'r', 'ggy', 'h', 999]"
      ]
     },
     "execution_count": 14,
     "metadata": {},
     "output_type": "execute_result"
    }
   ],
   "source": [
    "list1"
   ]
  },
  {
   "cell_type": "code",
   "execution_count": 15,
   "id": "e85fdcad",
   "metadata": {},
   "outputs": [
    {
     "data": {
      "text/plain": [
       "(2.3, 6.9, 25, 76, 26, 7, 's', 'er', 'r', 'ggy', 'h', 999)"
      ]
     },
     "execution_count": 15,
     "metadata": {},
     "output_type": "execute_result"
    }
   ],
   "source": [
    "#list to tuple\n",
    "tuple1=tuple(list1)\n",
    "tuple1"
   ]
  },
  {
   "cell_type": "code",
   "execution_count": 16,
   "id": "345bf2e4",
   "metadata": {},
   "outputs": [],
   "source": [
    "tuple=(1,3,7,8,7,5,4,7,6,8,5)"
   ]
  },
  {
   "cell_type": "code",
   "execution_count": 18,
   "id": "513eb5fb",
   "metadata": {},
   "outputs": [
    {
     "data": {
      "text/plain": [
       "3"
      ]
     },
     "execution_count": 18,
     "metadata": {},
     "output_type": "execute_result"
    }
   ],
   "source": [
    "x=tuple.count(7)\n",
    "x"
   ]
  },
  {
   "cell_type": "code",
   "execution_count": 21,
   "id": "bc5aad75",
   "metadata": {},
   "outputs": [
    {
     "name": "stdout",
     "output_type": "stream",
     "text": [
      "apple\n"
     ]
    }
   ],
   "source": [
    "#unpacking\n",
    "fruits2=('apple','orange','kiwi','pineapple')\n",
    "(red,orange,green,yellow)=fruits2\n",
    "print(red)\n"
   ]
  },
  {
   "cell_type": "code",
   "execution_count": 22,
   "id": "a00c0cca",
   "metadata": {},
   "outputs": [
    {
     "name": "stdout",
     "output_type": "stream",
     "text": [
      "apple\n",
      "orange\n",
      "kiwi\n",
      "pineapple\n"
     ]
    }
   ],
   "source": [
    "#looping through index\n",
    "fruits2 = ('apple','orange','kiwi','pineapple')\n",
    "for i in range(len(fruits2)):\n",
    "    print(fruits2[i])"
   ]
  },
  {
   "cell_type": "code",
   "execution_count": 23,
   "id": "b78df845",
   "metadata": {},
   "outputs": [
    {
     "data": {
      "text/plain": [
       "[(1, 'q'), (2, 'w'), (3, 'e')]"
      ]
     },
     "execution_count": 23,
     "metadata": {},
     "output_type": "execute_result"
    }
   ],
   "source": [
    "a=[1,2,3]\n",
    "b=['q','w','e']\n",
    "c=zip(a,b)\n",
    "d=list(c)\n",
    "d"
   ]
  },
  {
   "cell_type": "markdown",
   "id": "78541c8e",
   "metadata": {},
   "source": [
    "# dictionary"
   ]
  },
  {
   "cell_type": "code",
   "execution_count": 25,
   "id": "fa1cb4c9",
   "metadata": {},
   "outputs": [
    {
     "name": "stdout",
     "output_type": "stream",
     "text": [
      "red\n",
      "purple\n"
     ]
    }
   ],
   "source": [
    "fruits={'apple':'red','grapes':'purple'}\n",
    "x=fruits['apple']\n",
    "y=fruits.get('grapes')\n",
    "print(x)\n",
    "print(y)"
   ]
  },
  {
   "cell_type": "code",
   "execution_count": 26,
   "id": "b2d8fd8c",
   "metadata": {},
   "outputs": [
    {
     "data": {
      "text/plain": [
       "'67'"
      ]
     },
     "execution_count": 26,
     "metadata": {},
     "output_type": "execute_result"
    }
   ],
   "source": [
    "marks={'physics':'67','maths':'87'}\n",
    "y=marks.get('physics')\n",
    "y"
   ]
  },
  {
   "cell_type": "code",
   "execution_count": 27,
   "id": "9ddf1d2c",
   "metadata": {},
   "outputs": [],
   "source": [
    "person={'name':'phill','age':'22'}"
   ]
  },
  {
   "cell_type": "code",
   "execution_count": 28,
   "id": "f4ad2ae5",
   "metadata": {},
   "outputs": [
    {
     "data": {
      "text/plain": [
       "'phill'"
      ]
     },
     "execution_count": 28,
     "metadata": {},
     "output_type": "execute_result"
    }
   ],
   "source": [
    "person.get('name')"
   ]
  },
  {
   "cell_type": "code",
   "execution_count": 29,
   "id": "5df18eb3",
   "metadata": {},
   "outputs": [
    {
     "data": {
      "text/plain": [
       "'22'"
      ]
     },
     "execution_count": 29,
     "metadata": {},
     "output_type": "execute_result"
    }
   ],
   "source": [
    "person.get('age')"
   ]
  },
  {
   "cell_type": "code",
   "execution_count": 30,
   "id": "1581626a",
   "metadata": {},
   "outputs": [
    {
     "name": "stdout",
     "output_type": "stream",
     "text": [
      "salary : None\n"
     ]
    }
   ],
   "source": [
    "print('salary :',person.get('salary'))"
   ]
  },
  {
   "cell_type": "code",
   "execution_count": 44,
   "id": "749d4670",
   "metadata": {},
   "outputs": [
    {
     "name": "stdout",
     "output_type": "stream",
     "text": [
      "salary : 10.0\n"
     ]
    },
    {
     "data": {
      "text/plain": [
       "{'name': 'phill', 'age': '22'}"
      ]
     },
     "execution_count": 44,
     "metadata": {},
     "output_type": "execute_result"
    }
   ],
   "source": [
    "print('salary :',person.get('salary',10.0))\n",
    "person"
   ]
  },
  {
   "cell_type": "code",
   "execution_count": 32,
   "id": "f225e16a",
   "metadata": {},
   "outputs": [],
   "source": [
    "fruitss={'apple':'red','grapes':'purple'}\n",
    "fruitss['grapes']='green'"
   ]
  },
  {
   "cell_type": "code",
   "execution_count": 33,
   "id": "95e1602e",
   "metadata": {},
   "outputs": [
    {
     "data": {
      "text/plain": [
       "{'apple': 'red', 'grapes': 'green'}"
      ]
     },
     "execution_count": 33,
     "metadata": {},
     "output_type": "execute_result"
    }
   ],
   "source": [
    "fruitss"
   ]
  },
  {
   "cell_type": "code",
   "execution_count": 34,
   "id": "9ee5d6bf",
   "metadata": {},
   "outputs": [
    {
     "name": "stdout",
     "output_type": "stream",
     "text": [
      "3\n"
     ]
    }
   ],
   "source": [
    "cars_brand={'brand':'ford','model':'mustang','year':1964}\n",
    "print(len(cars_brand))"
   ]
  },
  {
   "cell_type": "code",
   "execution_count": 35,
   "id": "64e07db3",
   "metadata": {},
   "outputs": [
    {
     "name": "stdout",
     "output_type": "stream",
     "text": [
      "{'brand': 'ford', 'model': 'mustang', 'year': 1964, 'color': 'red'}\n"
     ]
    }
   ],
   "source": [
    "#adding items\n",
    "cars_brand['color']='red'\n",
    "print(cars_brand)\n"
   ]
  },
  {
   "cell_type": "code",
   "execution_count": 36,
   "id": "6a1eb768",
   "metadata": {},
   "outputs": [
    {
     "data": {
      "text/plain": [
       "{'brand': 'ford', 'year': 1964, 'color': 'red'}"
      ]
     },
     "execution_count": 36,
     "metadata": {},
     "output_type": "execute_result"
    }
   ],
   "source": [
    "#removing items\n",
    "cars_brand.pop('model')\n",
    "cars_brand"
   ]
  },
  {
   "cell_type": "code",
   "execution_count": 37,
   "id": "29c527af",
   "metadata": {},
   "outputs": [
    {
     "data": {
      "text/plain": [
       "('color', 'red')"
      ]
     },
     "execution_count": 37,
     "metadata": {},
     "output_type": "execute_result"
    }
   ],
   "source": [
    "cars_brand.popitem()"
   ]
  },
  {
   "cell_type": "code",
   "execution_count": 38,
   "id": "f798a1fe",
   "metadata": {},
   "outputs": [
    {
     "data": {
      "text/plain": [
       "{'brand': 'ford', 'year': 1964}"
      ]
     },
     "execution_count": 38,
     "metadata": {},
     "output_type": "execute_result"
    }
   ],
   "source": [
    "cars_brand"
   ]
  },
  {
   "cell_type": "code",
   "execution_count": 42,
   "id": "6aa48c60",
   "metadata": {},
   "outputs": [
    {
     "data": {
      "text/plain": [
       "{'brand': 'ford'}"
      ]
     },
     "execution_count": 42,
     "metadata": {},
     "output_type": "execute_result"
    }
   ],
   "source": [
    "#delete perticular item\n",
    "del cars_brand['year']\n",
    "cars_brand"
   ]
  },
  {
   "cell_type": "code",
   "execution_count": 43,
   "id": "74f82587",
   "metadata": {},
   "outputs": [
    {
     "data": {
      "text/plain": [
       "{'brand': 'ford', 'model': 'mustang', 'year': 1964}"
      ]
     },
     "execution_count": 43,
     "metadata": {},
     "output_type": "execute_result"
    }
   ],
   "source": [
    "cars_brand={'brand':'ford','model':'mustang','year':1964}\n",
    "new_car_brand=cars_brand.copy()\n",
    "new_car_brand"
   ]
  },
  {
   "cell_type": "code",
   "execution_count": 46,
   "id": "efee6330",
   "metadata": {},
   "outputs": [
    {
     "name": "stdout",
     "output_type": "stream",
     "text": [
      "fruits= {'apple': 'red', 'grapes': 'purple'}\n",
      "grapes= purple\n"
     ]
    }
   ],
   "source": [
    "#set default\n",
    "fruitss={'apple':'red','grapes':'purple'}\n",
    "print('fruits=', fruitss)\n",
    "fruits1=fruitss.setdefault('grapes')\n",
    "print('grapes=',fruits1)"
   ]
  },
  {
   "cell_type": "code",
   "execution_count": 49,
   "id": "14f0eb9b",
   "metadata": {},
   "outputs": [
    {
     "data": {
      "text/plain": [
       "'22'"
      ]
     },
     "execution_count": 49,
     "metadata": {},
     "output_type": "execute_result"
    }
   ],
   "source": [
    "person={'name':'phill','age':'22'}\n",
    "age=person.setdefault('age')\n",
    "age"
   ]
  },
  {
   "cell_type": "code",
   "execution_count": 50,
   "id": "dddb8055",
   "metadata": {},
   "outputs": [],
   "source": [
    "#set default without key\n",
    "person={'name':'phill'}"
   ]
  },
  {
   "cell_type": "code",
   "execution_count": 51,
   "id": "9a8a4a8d",
   "metadata": {},
   "outputs": [
    {
     "data": {
      "text/plain": [
       "{'name': 'phill'}"
      ]
     },
     "execution_count": 51,
     "metadata": {},
     "output_type": "execute_result"
    }
   ],
   "source": [
    "person"
   ]
  },
  {
   "cell_type": "code",
   "execution_count": 52,
   "id": "78ec7889",
   "metadata": {},
   "outputs": [
    {
     "name": "stdout",
     "output_type": "stream",
     "text": [
      "{'name': 'phill', 'salary': None}\n"
     ]
    }
   ],
   "source": [
    "#key is not in dict\n",
    "salary=person.setdefault('salary')\n",
    "print(person)"
   ]
  },
  {
   "cell_type": "code",
   "execution_count": 54,
   "id": "542d3417",
   "metadata": {},
   "outputs": [
    {
     "name": "stdout",
     "output_type": "stream",
     "text": [
      "None\n"
     ]
    }
   ],
   "source": [
    "print(salary)"
   ]
  },
  {
   "cell_type": "code",
   "execution_count": 15,
   "id": "b9225bf0",
   "metadata": {},
   "outputs": [],
   "source": [
    "person={'name':'phill'}"
   ]
  },
  {
   "cell_type": "code",
   "execution_count": 16,
   "id": "a4acd1a6",
   "metadata": {},
   "outputs": [],
   "source": [
    "age=person.setdefault('age',22)"
   ]
  },
  {
   "cell_type": "code",
   "execution_count": 17,
   "id": "afe6a2a4",
   "metadata": {},
   "outputs": [
    {
     "name": "stdout",
     "output_type": "stream",
     "text": [
      "{'name': 'phill', 'age': 22}\n"
     ]
    }
   ],
   "source": [
    "print(person)"
   ]
  },
  {
   "cell_type": "code",
   "execution_count": 18,
   "id": "0c937822",
   "metadata": {},
   "outputs": [
    {
     "data": {
      "text/plain": [
       "22"
      ]
     },
     "execution_count": 18,
     "metadata": {},
     "output_type": "execute_result"
    }
   ],
   "source": [
    "age"
   ]
  },
  {
   "cell_type": "code",
   "execution_count": 59,
   "id": "e0884d45",
   "metadata": {},
   "outputs": [
    {
     "name": "stdout",
     "output_type": "stream",
     "text": [
      "{'apple': 'red', 'grapes': 'purple', 'orange': None}\n",
      "None\n"
     ]
    }
   ],
   "source": [
    "fruitss={'apple':'red','grapes':'purple'}\n",
    "fruit=fruitss.setdefault('orange')\n",
    "print(fruitss)\n",
    "print(fruit)"
   ]
  },
  {
   "cell_type": "code",
   "execution_count": 61,
   "id": "17bf29d8",
   "metadata": {},
   "outputs": [
    {
     "name": "stdout",
     "output_type": "stream",
     "text": [
      "{'apple': 'red', 'grapes': 'purple', 'orange': None, 'pineapple': 'yellow'}\n",
      "yellow\n"
     ]
    }
   ],
   "source": [
    "fruit=fruitss.setdefault('pineapple','yellow')\n",
    "print(fruitss)\n",
    "print(fruit)"
   ]
  },
  {
   "cell_type": "code",
   "execution_count": 62,
   "id": "ce74bb78",
   "metadata": {},
   "outputs": [
    {
     "name": "stdout",
     "output_type": "stream",
     "text": [
      "{}\n"
     ]
    }
   ],
   "source": [
    "#clear method\n",
    "fruitss.clear()\n",
    "print(fruitss)"
   ]
  },
  {
   "cell_type": "code",
   "execution_count": 65,
   "id": "812054fa",
   "metadata": {},
   "outputs": [
    {
     "name": "stdout",
     "output_type": "stream",
     "text": [
      "dict_items([('apple', 'red'), ('grapes', 'purple')])\n",
      "dict_keys(['apple', 'grapes'])\n",
      "dict_values(['red', 'purple'])\n"
     ]
    }
   ],
   "source": [
    "fruitss={'apple':'red','grapes':'purple'}\n",
    "print(fruitss.items())\n",
    "print(fruitss.keys())\n",
    "print(fruitss.values())"
   ]
  },
  {
   "cell_type": "code",
   "execution_count": 66,
   "id": "d2374c47",
   "metadata": {},
   "outputs": [
    {
     "name": "stdout",
     "output_type": "stream",
     "text": [
      "{1: 'greeks', 2: 'for', 3: {'a': 'welcome', 'b': 'to', 'c': 'greeks'}}\n"
     ]
    }
   ],
   "source": [
    "dict={1:'greeks',2:'for',3:{'a':'welcome','b':'to','c':'greeks'}}\n",
    "print(dict)"
   ]
  },
  {
   "cell_type": "code",
   "execution_count": 2,
   "id": "9a5c8a0a",
   "metadata": {},
   "outputs": [],
   "source": [
    "dict={'dict1':{1:'greeks'},'dict2':{'name':'for'}}"
   ]
  },
  {
   "cell_type": "code",
   "execution_count": 3,
   "id": "9960dc03",
   "metadata": {},
   "outputs": [
    {
     "data": {
      "text/plain": [
       "{1: 'greeks'}"
      ]
     },
     "execution_count": 3,
     "metadata": {},
     "output_type": "execute_result"
    }
   ],
   "source": [
    "dict['dict1']"
   ]
  },
  {
   "cell_type": "code",
   "execution_count": 4,
   "id": "c8453dd5",
   "metadata": {},
   "outputs": [
    {
     "data": {
      "text/plain": [
       "'greeks'"
      ]
     },
     "execution_count": 4,
     "metadata": {},
     "output_type": "execute_result"
    }
   ],
   "source": [
    "dict['dict1'][1]"
   ]
  },
  {
   "cell_type": "markdown",
   "id": "29961507",
   "metadata": {},
   "source": [
    "# sets"
   ]
  },
  {
   "cell_type": "code",
   "execution_count": 7,
   "id": "432d66a5",
   "metadata": {},
   "outputs": [
    {
     "data": {
      "text/plain": [
       "{'apple', 'banana', 'cherry', 'grass', 'kiwi', 'orange', 'pineapple'}"
      ]
     },
     "execution_count": 7,
     "metadata": {},
     "output_type": "execute_result"
    }
   ],
   "source": [
    "#add\n",
    "f={'apple','orange','kiwi','pineapple','grass','banana'}\n",
    "f.add('cherry')\n",
    "f"
   ]
  },
  {
   "cell_type": "code",
   "execution_count": 8,
   "id": "e34641cc",
   "metadata": {},
   "outputs": [
    {
     "data": {
      "text/plain": [
       "set"
      ]
     },
     "execution_count": 8,
     "metadata": {},
     "output_type": "execute_result"
    }
   ],
   "source": [
    "#type\n",
    "type(f)"
   ]
  },
  {
   "cell_type": "code",
   "execution_count": 9,
   "id": "04f195e5",
   "metadata": {},
   "outputs": [
    {
     "data": {
      "text/plain": [
       "7"
      ]
     },
     "execution_count": 9,
     "metadata": {},
     "output_type": "execute_result"
    }
   ],
   "source": [
    "#length\n",
    "len(f)"
   ]
  },
  {
   "cell_type": "code",
   "execution_count": 12,
   "id": "abcdffde",
   "metadata": {},
   "outputs": [
    {
     "data": {
      "text/plain": [
       "{'brown', 'green', 'orange', 'red', 'yellow'}"
      ]
     },
     "execution_count": 12,
     "metadata": {},
     "output_type": "execute_result"
    }
   ],
   "source": [
    "#update\n",
    "color={'red','orange','brown'}\n",
    "color.update(['green','yellow'])\n",
    "color"
   ]
  },
  {
   "cell_type": "code",
   "execution_count": 13,
   "id": "7bae579d",
   "metadata": {},
   "outputs": [
    {
     "ename": "TypeError",
     "evalue": "'set' object does not support item deletion",
     "output_type": "error",
     "traceback": [
      "\u001b[1;31m---------------------------------------------------------------------------\u001b[0m",
      "\u001b[1;31mTypeError\u001b[0m                                 Traceback (most recent call last)",
      "Input \u001b[1;32mIn [13]\u001b[0m, in \u001b[0;36m<cell line: 1>\u001b[1;34m()\u001b[0m\n\u001b[1;32m----> 1\u001b[0m \u001b[38;5;28;01mdel\u001b[39;00m color[\u001b[38;5;124m'\u001b[39m\u001b[38;5;124myellow\u001b[39m\u001b[38;5;124m'\u001b[39m]\n",
      "\u001b[1;31mTypeError\u001b[0m: 'set' object does not support item deletion"
     ]
    }
   ],
   "source": [
    "del color['yellow']"
   ]
  },
  {
   "cell_type": "code",
   "execution_count": 14,
   "id": "bcd267bd",
   "metadata": {},
   "outputs": [],
   "source": [
    "#constructor\n",
    "c=set(('red','orange','brown'))"
   ]
  },
  {
   "cell_type": "code",
   "execution_count": 15,
   "id": "8ffe94ef",
   "metadata": {},
   "outputs": [
    {
     "data": {
      "text/plain": [
       "{'brown', 'orange', 'red'}"
      ]
     },
     "execution_count": 15,
     "metadata": {},
     "output_type": "execute_result"
    }
   ],
   "source": [
    "c"
   ]
  },
  {
   "cell_type": "markdown",
   "id": "499f3262",
   "metadata": {},
   "source": [
    "# boolen"
   ]
  },
  {
   "cell_type": "code",
   "execution_count": 16,
   "id": "e5d8a6a3",
   "metadata": {},
   "outputs": [
    {
     "name": "stdout",
     "output_type": "stream",
     "text": [
      "False\n"
     ]
    }
   ],
   "source": [
    "print(5==3)"
   ]
  },
  {
   "cell_type": "code",
   "execution_count": 17,
   "id": "2696ee54",
   "metadata": {},
   "outputs": [
    {
     "name": "stdout",
     "output_type": "stream",
     "text": [
      "False\n"
     ]
    }
   ],
   "source": [
    "print(4>=9)"
   ]
  },
  {
   "cell_type": "code",
   "execution_count": 18,
   "id": "e9a04261",
   "metadata": {},
   "outputs": [
    {
     "name": "stdout",
     "output_type": "stream",
     "text": [
      "True\n"
     ]
    }
   ],
   "source": [
    "print(9<=19)"
   ]
  },
  {
   "cell_type": "code",
   "execution_count": 19,
   "id": "b150eee2",
   "metadata": {},
   "outputs": [
    {
     "name": "stdout",
     "output_type": "stream",
     "text": [
      "True\n"
     ]
    }
   ],
   "source": [
    "print(8 !=7)"
   ]
  },
  {
   "cell_type": "code",
   "execution_count": 20,
   "id": "88c57fb1",
   "metadata": {},
   "outputs": [
    {
     "name": "stdout",
     "output_type": "stream",
     "text": [
      "False\n"
     ]
    }
   ],
   "source": [
    "print(7<5)"
   ]
  },
  {
   "cell_type": "code",
   "execution_count": 21,
   "id": "330e0c3e",
   "metadata": {},
   "outputs": [
    {
     "name": "stdout",
     "output_type": "stream",
     "text": [
      "False\n"
     ]
    }
   ],
   "source": [
    "print(2>44)"
   ]
  },
  {
   "cell_type": "code",
   "execution_count": 24,
   "id": "42a7c37d",
   "metadata": {},
   "outputs": [
    {
     "data": {
      "text/plain": [
       "True"
      ]
     },
     "execution_count": 24,
     "metadata": {},
     "output_type": "execute_result"
    }
   ],
   "source": [
    "bool(True)"
   ]
  },
  {
   "cell_type": "code",
   "execution_count": 26,
   "id": "7a5221fc",
   "metadata": {},
   "outputs": [
    {
     "data": {
      "text/plain": [
       "True"
      ]
     },
     "execution_count": 26,
     "metadata": {},
     "output_type": "execute_result"
    }
   ],
   "source": [
    "bool('hello')"
   ]
  },
  {
   "cell_type": "code",
   "execution_count": 27,
   "id": "bc70c77f",
   "metadata": {},
   "outputs": [
    {
     "data": {
      "text/plain": [
       "False"
      ]
     },
     "execution_count": 27,
     "metadata": {},
     "output_type": "execute_result"
    }
   ],
   "source": [
    "bool(None)"
   ]
  },
  {
   "cell_type": "code",
   "execution_count": 28,
   "id": "f1f67170",
   "metadata": {},
   "outputs": [
    {
     "data": {
      "text/plain": [
       "True"
      ]
     },
     "execution_count": 28,
     "metadata": {},
     "output_type": "execute_result"
    }
   ],
   "source": [
    "bool(['insta','whatsapp','favebook'])"
   ]
  },
  {
   "cell_type": "code",
   "execution_count": 29,
   "id": "19efd7f1",
   "metadata": {},
   "outputs": [
    {
     "data": {
      "text/plain": [
       "False"
      ]
     },
     "execution_count": 29,
     "metadata": {},
     "output_type": "execute_result"
    }
   ],
   "source": [
    "bool({})"
   ]
  },
  {
   "cell_type": "code",
   "execution_count": 30,
   "id": "a1accd42",
   "metadata": {},
   "outputs": [
    {
     "data": {
      "text/plain": [
       "False"
      ]
     },
     "execution_count": 30,
     "metadata": {},
     "output_type": "execute_result"
    }
   ],
   "source": [
    "bool(())"
   ]
  },
  {
   "cell_type": "code",
   "execution_count": 31,
   "id": "3825ff64",
   "metadata": {},
   "outputs": [
    {
     "name": "stdout",
     "output_type": "stream",
     "text": [
      "('a', 'd', 'g')\n"
     ]
    }
   ],
   "source": [
    "#slice(start,end,step)\n",
    "a=('a','b','c','d','e','f','g','h')\n",
    "x=slice(0,8,3)\n",
    "print(a[x])"
   ]
  },
  {
   "cell_type": "code",
   "execution_count": 34,
   "id": "101dd84d",
   "metadata": {},
   "outputs": [
    {
     "data": {
      "text/plain": [
       "[3, 6, 9, 12, 15, 18]"
      ]
     },
     "execution_count": 34,
     "metadata": {},
     "output_type": "execute_result"
    }
   ],
   "source": [
    "#range(start,end,step)\n",
    "x=range(3,20,3)\n",
    "list(x)"
   ]
  },
  {
   "cell_type": "code",
   "execution_count": 37,
   "id": "e974029f",
   "metadata": {},
   "outputs": [
    {
     "name": "stdout",
     "output_type": "stream",
     "text": [
      "3\n",
      "6\n",
      "9\n",
      "12\n",
      "15\n",
      "18\n"
     ]
    }
   ],
   "source": [
    "for i in x:\n",
    "    print(i)"
   ]
  },
  {
   "cell_type": "code",
   "execution_count": 38,
   "id": "752307a2",
   "metadata": {},
   "outputs": [],
   "source": [
    "import random"
   ]
  },
  {
   "cell_type": "code",
   "execution_count": 40,
   "id": "1cd7ff97",
   "metadata": {},
   "outputs": [
    {
     "name": "stdout",
     "output_type": "stream",
     "text": [
      "3\n"
     ]
    }
   ],
   "source": [
    "print(random.randint(3,9))#3 and 9 included"
   ]
  },
  {
   "cell_type": "code",
   "execution_count": 41,
   "id": "8f2c71c4",
   "metadata": {},
   "outputs": [
    {
     "name": "stdout",
     "output_type": "stream",
     "text": [
      "6\n"
     ]
    }
   ],
   "source": [
    "print(random.randrange(3,9))#3 included and 9 excluded"
   ]
  },
  {
   "cell_type": "code",
   "execution_count": 45,
   "id": "36c34989",
   "metadata": {},
   "outputs": [
    {
     "name": "stdout",
     "output_type": "stream",
     "text": [
      "7\n"
     ]
    }
   ],
   "source": [
    "random.seed(10)\n",
    "print(random.randrange(3,9))"
   ]
  },
  {
   "cell_type": "markdown",
   "id": "70d485c4",
   "metadata": {},
   "source": [
    "# shallow copy"
   ]
  },
  {
   "cell_type": "code",
   "execution_count": 47,
   "id": "626485bd",
   "metadata": {},
   "outputs": [
    {
     "name": "stdout",
     "output_type": "stream",
     "text": [
      "[[1, 2, 3], [4, 5, 6], [7, 8, 9]]\n",
      "[[1, 2, 3], [4, 5, 6], [7, 8, 9]]\n"
     ]
    }
   ],
   "source": [
    "import copy\n",
    "old_list =[[1,2,3],[4,5,6],[7,8,9]]\n",
    "new_list = copy.copy(old_list)\n",
    "\n",
    "print(old_list )\n",
    "print(new_list)"
   ]
  },
  {
   "cell_type": "code",
   "execution_count": 50,
   "id": "e6fbefe6",
   "metadata": {},
   "outputs": [
    {
     "name": "stdout",
     "output_type": "stream",
     "text": [
      "[[1, 2, 3], [4, 'AA', 6], [7, 8, 9]]\n",
      "[[1, 2, 3], [4, 'AA', 6], [7, 8, 9]]\n"
     ]
    }
   ],
   "source": [
    "new_list[1][1]='AA'\n",
    "print(old_list )\n",
    "print(new_list)"
   ]
  },
  {
   "cell_type": "markdown",
   "id": "6818e179",
   "metadata": {},
   "source": [
    "# deep copy"
   ]
  },
  {
   "cell_type": "code",
   "execution_count": 51,
   "id": "f249dfa7",
   "metadata": {},
   "outputs": [
    {
     "name": "stdout",
     "output_type": "stream",
     "text": [
      "[[1, 2, 3], [4, 5, 6], [7, 8, 9]]\n",
      "[[1, 2, 3], [4, 5, 6], [7, 8, 9]]\n"
     ]
    }
   ],
   "source": [
    "import copy\n",
    "old_list =[[1,2,3],[4,5,6],[7,8,9]]\n",
    "new_list = copy.deepcopy(old_list)\n",
    "\n",
    "print(old_list )\n",
    "print(new_list)"
   ]
  },
  {
   "cell_type": "code",
   "execution_count": 52,
   "id": "4cbc7884",
   "metadata": {},
   "outputs": [
    {
     "name": "stdout",
     "output_type": "stream",
     "text": [
      "[[1, 2, 3], [4, 5, 6], [7, 8, 9]]\n",
      "[[1, 2, 3], [4, 'AA', 6], [7, 8, 9]]\n"
     ]
    }
   ],
   "source": [
    "new_list[1][1]='AA'\n",
    "print(old_list )\n",
    "print(new_list)"
   ]
  },
  {
   "cell_type": "code",
   "execution_count": null,
   "id": "173bb8da",
   "metadata": {},
   "outputs": [],
   "source": [
    "#arithemetic operators"
   ]
  },
  {
   "cell_type": "code",
   "execution_count": 60,
   "id": "72350912",
   "metadata": {},
   "outputs": [
    {
     "name": "stdout",
     "output_type": "stream",
     "text": [
      "11\n",
      "1\n",
      "30\n",
      "1.2\n",
      "1\n",
      "1\n"
     ]
    }
   ],
   "source": [
    "x=6\n",
    "y=5\n",
    "print(x+y)\n",
    "print(x-y)\n",
    "print(x*y)\n",
    "print(x/y)\n",
    "print(x%y)\n",
    "print(x//y)"
   ]
  },
  {
   "cell_type": "markdown",
   "id": "1f47c6d4",
   "metadata": {},
   "source": [
    "# comparison opetarion"
   ]
  },
  {
   "cell_type": "code",
   "execution_count": null,
   "id": "42544826",
   "metadata": {},
   "outputs": [],
   "source": [
    "x=5\n",
    "y=3"
   ]
  },
  {
   "cell_type": "code",
   "execution_count": 64,
   "id": "606e08aa",
   "metadata": {},
   "outputs": [
    {
     "name": "stdout",
     "output_type": "stream",
     "text": [
      "True\n",
      "False\n",
      "True\n",
      "False\n",
      "False\n",
      "True\n"
     ]
    }
   ],
   "source": [
    "print(x>y)\n",
    "print(x<y)\n",
    "print(x>=y)\n",
    "print(x<=y)\n",
    "print(x==y)\n",
    "print(x!=y)"
   ]
  },
  {
   "cell_type": "code",
   "execution_count": null,
   "id": "af902998",
   "metadata": {},
   "outputs": [],
   "source": [
    "#increment and decrement operator"
   ]
  },
  {
   "cell_type": "code",
   "execution_count": 66,
   "id": "271cdb43",
   "metadata": {},
   "outputs": [
    {
     "data": {
      "text/plain": [
       "0"
      ]
     },
     "execution_count": 66,
     "metadata": {},
     "output_type": "execute_result"
    }
   ],
   "source": [
    "a=20\n",
    "a-=20\n",
    "a"
   ]
  },
  {
   "cell_type": "code",
   "execution_count": 67,
   "id": "963a84df",
   "metadata": {},
   "outputs": [
    {
     "data": {
      "text/plain": [
       "30"
      ]
     },
     "execution_count": 67,
     "metadata": {},
     "output_type": "execute_result"
    }
   ],
   "source": [
    "a=10\n",
    "a+=20\n",
    "a"
   ]
  },
  {
   "cell_type": "code",
   "execution_count": null,
   "id": "2e9bc546",
   "metadata": {},
   "outputs": [],
   "source": [
    "#logical operator"
   ]
  },
  {
   "cell_type": "code",
   "execution_count": 76,
   "id": "e089fba3",
   "metadata": {},
   "outputs": [
    {
     "name": "stdout",
     "output_type": "stream",
     "text": [
      "False\n",
      "True\n",
      "False\n"
     ]
    }
   ],
   "source": [
    "#and\n",
    "x=1\n",
    "y=2\n",
    "print((x>2) and (y>1))\n",
    "print((x==1) and (y==2))\n",
    "print((x>2) and (y>3))"
   ]
  },
  {
   "cell_type": "code",
   "execution_count": 77,
   "id": "2992ceb9",
   "metadata": {},
   "outputs": [
    {
     "name": "stdout",
     "output_type": "stream",
     "text": [
      "True\n",
      "True\n",
      "False\n"
     ]
    }
   ],
   "source": [
    "#or\n",
    "x=1\n",
    "y=2\n",
    "print((x>2) or (y>1))\n",
    "print((x==1) or (y==2))\n",
    "print((x>2) or (y>3))"
   ]
  },
  {
   "cell_type": "code",
   "execution_count": 79,
   "id": "1ebe31b5",
   "metadata": {},
   "outputs": [
    {
     "name": "stdout",
     "output_type": "stream",
     "text": [
      "True\n"
     ]
    }
   ],
   "source": [
    "#not\n",
    "x=1\n",
    "y=2\n",
    "print(not(x>2))"
   ]
  },
  {
   "cell_type": "code",
   "execution_count": 81,
   "id": "df44cd48",
   "metadata": {},
   "outputs": [
    {
     "name": "stdout",
     "output_type": "stream",
     "text": [
      "True\n",
      "False\n"
     ]
    }
   ],
   "source": [
    "#membership operator\n",
    "x='hello'\n",
    "print('h'in x)\n",
    "print('h'not in x)"
   ]
  },
  {
   "cell_type": "code",
   "execution_count": 83,
   "id": "67052745",
   "metadata": {},
   "outputs": [
    {
     "name": "stdout",
     "output_type": "stream",
     "text": [
      "True\n",
      "True\n"
     ]
    }
   ],
   "source": [
    "#identiti operator\n",
    "x='hi'\n",
    "y='hi'\n",
    "z=x\n",
    "print(x is z)\n",
    "print(x is y)\n",
    "\n"
   ]
  },
  {
   "cell_type": "code",
   "execution_count": 87,
   "id": "642c6946",
   "metadata": {},
   "outputs": [
    {
     "name": "stdout",
     "output_type": "stream",
     "text": [
      "True\n",
      "False\n",
      "732321735808\n",
      "732321736384\n",
      "732321735808\n"
     ]
    }
   ],
   "source": [
    "x=[1,2,3,4]\n",
    "y=[1,2,3,4]\n",
    "z=x\n",
    "print(x is z)\n",
    "print(x is y)\n",
    "print(id(x))\n",
    "print(id(y))\n",
    "print(id(z))"
   ]
  },
  {
   "cell_type": "code",
   "execution_count": 88,
   "id": "809399a1",
   "metadata": {},
   "outputs": [
    {
     "name": "stdout",
     "output_type": "stream",
     "text": [
      "False\n",
      "True\n"
     ]
    }
   ],
   "source": [
    "x=[1,2,3,4]\n",
    "y=[1,2,3,4]\n",
    "z=x\n",
    "print(x is not z)\n",
    "print(x is not y)"
   ]
  },
  {
   "cell_type": "code",
   "execution_count": null,
   "id": "5cfd46fe",
   "metadata": {},
   "outputs": [],
   "source": []
  }
 ],
 "metadata": {
  "kernelspec": {
   "display_name": "Python 3 (ipykernel)",
   "language": "python",
   "name": "python3"
  },
  "language_info": {
   "codemirror_mode": {
    "name": "ipython",
    "version": 3
   },
   "file_extension": ".py",
   "mimetype": "text/x-python",
   "name": "python",
   "nbconvert_exporter": "python",
   "pygments_lexer": "ipython3",
   "version": "3.9.13"
  }
 },
 "nbformat": 4,
 "nbformat_minor": 5
}
