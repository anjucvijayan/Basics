{
 "cells": [
  {
   "cell_type": "code",
   "execution_count": null,
   "id": "e879ac46",
   "metadata": {},
   "outputs": [],
   "source": [
    "Write a Python function to find the Max of three numbers\n",
    "Write a Python function to sum all the numbers in a list. \n",
    "Write a Python function that takes a number as a parameter and check the number is prime or not\n",
    "Write a Python function that checks whether a passed string is palindrome or not.\n",
    "Write a Python program to print the even numbers from a given list.\n",
    "Write a Python function to check whether a string is a pangram or not.\n",
    "Python function that takes two lists and returns True if they have at least one common member.\n",
    "write a program to print pattern \n",
    "1\n",
    "22\n",
    "333\n",
    "4444\n",
    "\n",
    "write a program to print pattern\n",
    "1\n",
    "12\n",
    "123\n",
    "1234\n",
    "\n",
    "write a program to print Inverted Pyramid of Descending Numbers\n",
    "55555\n",
    "4444\n",
    "333\n",
    "22\n",
    "1\n",
    "\n",
    "write a program to print pattern \n",
    "         *\n",
    "        * *\n",
    "       * * *\n",
    "      * * * *\n",
    "\n",
    "write a program to print Pyramid Pattern of Stars\n",
    "*\n",
    "**\n",
    "***\n",
    "****\n",
    "*****\n",
    "\n",
    "write a program to print Reverse Pyramid Pattern Program"
   ]
  },
  {
   "cell_type": "markdown",
   "id": "6972423d",
   "metadata": {},
   "source": [
    "Write a Python function to find the Max of three numbers"
   ]
  },
  {
   "cell_type": "code",
   "execution_count": 1,
   "id": "6066edab",
   "metadata": {},
   "outputs": [
    {
     "name": "stdout",
     "output_type": "stream",
     "text": [
      "30\n"
     ]
    }
   ],
   "source": [
    "#write a python function to find the max of 3 numbers\n",
    "def max(a,b,c):\n",
    "    if (a>b) and (a>c):\n",
    "        maximum=a\n",
    "    elif(b>a) and (b>c):\n",
    "        maximum=b\n",
    "    else:\n",
    "        maximum=c\n",
    "    return maximum\n",
    "print(max(10,20,30))\n",
    "    "
   ]
  },
  {
   "cell_type": "code",
   "execution_count": 3,
   "id": "9e47dde5",
   "metadata": {},
   "outputs": [
    {
     "name": "stdout",
     "output_type": "stream",
     "text": [
      "enter a number4\n",
      "<function prime at 0x0000019B54B7EE50>\n"
     ]
    }
   ],
   "source": [
    "n= int(input('enter a number'))\n",
    "def prime(n):\n",
    "    for i in range(2,n):\n",
    "        if n%i==0:\n",
    "            return False\n",
    "        else:\n",
    "            return True\n",
    "\n",
    "print(prime(n))"
   ]
  },
  {
   "cell_type": "code",
   "execution_count": 4,
   "id": "2480a344",
   "metadata": {},
   "outputs": [
    {
     "name": "stdout",
     "output_type": "stream",
     "text": [
      "28\n"
     ]
    }
   ],
   "source": [
    "#write a python function to sum all the numbers in a list\n",
    "list=[1,2,3,4,5,6,7]\n",
    "def sum1(list):\n",
    "    sum=0\n",
    "    for i in list:\n",
    "        sum=i+sum\n",
    "    return sum\n",
    "print(sum1(list))\n",
    "        \n"
   ]
  },
  {
   "cell_type": "markdown",
   "id": "4882bda4",
   "metadata": {},
   "source": [
    "Write a Python function that checks whether a passed string is palindrome or not."
   ]
  },
  {
   "cell_type": "code",
   "execution_count": 16,
   "id": "d66d08b3",
   "metadata": {},
   "outputs": [
    {
     "name": "stdout",
     "output_type": "stream",
     "text": [
      "enter a string : malayalam\n",
      "palindrome\n"
     ]
    }
   ],
   "source": [
    "def palindrome(n):\n",
    "    rev=n[::-1]\n",
    "    if (rev==n):\n",
    "        return True\n",
    "    else:\n",
    "        return False\n",
    "    \n",
    "x=input('enter a string : ')\n",
    "if palindrome(x):\n",
    "    print('palindrome')\n",
    "else:\n",
    "    print('not palindrome')\n",
    "  "
   ]
  },
  {
   "cell_type": "markdown",
   "id": "e2084ccf",
   "metadata": {},
   "source": [
    "#Write a Python program to print the even numbers from a given list.\n",
    "list=[5,6,7,8,9,10]\n",
    "#even_number=[]\n",
    "def even(list):\n",
    "    even_number=[]                               #### #doubt#####\n",
    "    for i in list:\n",
    "        if i%2==0:\n",
    "            print(i)\n",
    "            even_number.append(i)\n",
    "            return even_number\n",
    "print(even(list))"
   ]
  },
  {
   "cell_type": "code",
   "execution_count": 31,
   "id": "82c020ca",
   "metadata": {},
   "outputs": [
    {
     "name": "stdout",
     "output_type": "stream",
     "text": [
      "no\n"
     ]
    }
   ],
   "source": [
    "#Write a Python function to check whether a string is a pangram or not.\n",
    "import string\n",
    "\n",
    "def ispangram(str):\n",
    "    alphabet ='abcdefghijklmnopqrstuvwxyz'\n",
    "    for char in alphabet:\n",
    "        if char not in str.lower():\n",
    "            return False\n",
    "    return True\n",
    "\n",
    "string='hgtnkmbgfred'\n",
    "\n",
    "if (ispangram(string)==True):\n",
    "    print('yes')\n",
    "else:\n",
    "    print('no')"
   ]
  },
  {
   "cell_type": "code",
   "execution_count": 3,
   "id": "e5d4c399",
   "metadata": {},
   "outputs": [
    {
     "name": "stdout",
     "output_type": "stream",
     "text": [
      "True\n"
     ]
    }
   ],
   "source": [
    "#Python function that takes two lists and returns True if they have at least one common member.\n",
    "list1= [1,2,3,4,5,6,7]\n",
    "list2=[6,7,8,9,10,11]\n",
    "def common(list1,list2):\n",
    "    for i in list1:\n",
    "        if i in list2:\n",
    "            return True\n",
    "print (common(list1,list2))"
   ]
  },
  {
   "cell_type": "markdown",
   "id": "615268ca",
   "metadata": {},
   "source": [
    "write a program to print pattern \n",
    "1\n",
    "22\n",
    "333\n",
    "4444"
   ]
  },
  {
   "cell_type": "code",
   "execution_count": 17,
   "id": "51952bc9",
   "metadata": {},
   "outputs": [
    {
     "name": "stdout",
     "output_type": "stream",
     "text": [
      "enter the number of rows4\n",
      "1\n",
      "22\n",
      "333\n",
      "4444\n"
     ]
    }
   ],
   "source": [
    "n=int(input('enter the number of rows'))\n",
    "for i in range(1,n+1):\n",
    "    for j in range(1,i+1):\n",
    "        print(i,end='')\n",
    "    print()    "
   ]
  },
  {
   "cell_type": "markdown",
   "id": "ab8968e9",
   "metadata": {},
   "source": [
    "write a program to print pattern\n",
    "1\n",
    "12\n",
    "123\n",
    "1234"
   ]
  },
  {
   "cell_type": "code",
   "execution_count": 15,
   "id": "62082e93",
   "metadata": {},
   "outputs": [
    {
     "name": "stdout",
     "output_type": "stream",
     "text": [
      "enter the number of rows4\n",
      "1 \n",
      "1 2 \n",
      "1 2 3 \n",
      "1 2 3 4 \n"
     ]
    }
   ],
   "source": [
    "n=int(input('enter the number of rows'))\n",
    "for i in range(1,n+1):\n",
    "    for j in range(1,i+1):\n",
    "        print(j,end=' ')\n",
    "    print() \n",
    "      "
   ]
  },
  {
   "cell_type": "markdown",
   "id": "c284f14e",
   "metadata": {},
   "source": [
    "write a program to print Inverted Pyramid of Descending Numbers\n",
    "55555\n",
    "4444\n",
    "333\n",
    "22\n",
    "1"
   ]
  },
  {
   "cell_type": "code",
   "execution_count": 28,
   "id": "164d2e31",
   "metadata": {},
   "outputs": [
    {
     "name": "stdout",
     "output_type": "stream",
     "text": [
      "enter the number of rows6\n",
      "666666\n",
      "55555\n",
      "4444\n",
      "333\n",
      "22\n",
      "1\n"
     ]
    }
   ],
   "source": [
    "n=int(input('enter the number of rows'))\n",
    "for i in range(n):\n",
    "    for j in range(n-i):\n",
    "        print(n-i,end='')\n",
    "    print()    \n",
    "    "
   ]
  },
  {
   "cell_type": "markdown",
   "id": "a6219dbe",
   "metadata": {},
   "source": [
    "write a program to print Pyramid Pattern of Stars\n",
    "*\n",
    "**\n",
    "***\n",
    "****\n",
    "*****\n"
   ]
  },
  {
   "cell_type": "code",
   "execution_count": 1,
   "id": "a50a6363",
   "metadata": {},
   "outputs": [
    {
     "name": "stdout",
     "output_type": "stream",
     "text": [
      "enter the number of rows5\n",
      "*\n",
      "**\n",
      "***\n",
      "****\n",
      "*****\n"
     ]
    }
   ],
   "source": [
    "n= int(input('enter the number of rows'))\n",
    "for i in range(1,n+1):\n",
    "    for j in range(1,i+1):\n",
    "        print('*',end='')\n",
    "    print()\n",
    "    \n"
   ]
  },
  {
   "cell_type": "code",
   "execution_count": 2,
   "id": "374300ae",
   "metadata": {},
   "outputs": [
    {
     "name": "stdout",
     "output_type": "stream",
     "text": [
      "enter the number of rows6\n",
      "******\n",
      "*****\n",
      "****\n",
      "***\n",
      "**\n",
      "*\n"
     ]
    }
   ],
   "source": [
    "#write a program to print Reverse Pyramid Pattern Program\n",
    "n=int(input('enter the number of rows'))\n",
    "for i in range(n):\n",
    "    for j in range(n-i):\n",
    "        print('*',end='')\n",
    "    print()"
   ]
  },
  {
   "cell_type": "code",
   "execution_count": 9,
   "id": "26c03e89",
   "metadata": {},
   "outputs": [
    {
     "name": "stdout",
     "output_type": "stream",
     "text": [
      "[2, 4, 6, 8]\n"
     ]
    }
   ],
   "source": [
    "#Write a Python program to print the even numbers from a given list.\n",
    "list=[2,3,4,5,6,7,8]\n",
    "list2=[]\n",
    "def even(list):\n",
    "    for i in list:\n",
    "        if (i%2)==0:\n",
    "            list2.append(i)\n",
    "    return list2\n",
    "print(even(list))\n"
   ]
  },
  {
   "cell_type": "markdown",
   "id": "814f10a8",
   "metadata": {},
   "source": [
    "python Program to append, delete and display elements of a list using classes.\n",
    "Python Program to Create a Class which Performs Basic Calculator Operations\n",
    "Python Program to Create a Class in which One Method Accepts a String from the User and Another Prints it\n",
    " Write a Python class which has two methods get_String and print_String. get_String accept a string from the\n",
    " user and print_String print the string in upper case.\n",
    "Write a Python class named Rectangle constructed by a length \n",
    "and width and a method which will compute the area of a rectangle.\n",
    "Write a Python class named Circle constructed by a radius and two methods \n",
    "which will compute the area and the perimeter of a circle."
   ]
  },
  {
   "cell_type": "code",
   "execution_count": null,
   "id": "186cf554",
   "metadata": {},
   "outputs": [],
   "source": [
    "#python Program to append, delete and display elements of a list using classes."
   ]
  },
  {
   "cell_type": "code",
   "execution_count": 21,
   "id": "6f093791",
   "metadata": {},
   "outputs": [
    {
     "name": "stdout",
     "output_type": "stream",
     "text": [
      "[1, 2, 3, 4, 5, 6, 7, 8, 10]\n",
      "[1, 2, 3, 4, 5, 6, 7, 8]\n",
      "[1, 2, 3, 4, 5, 6, 7, 8]\n"
     ]
    }
   ],
   "source": [
    "l1=[1,2,3,4,5,6,7,8]\n",
    "\n",
    "class list:\n",
    "    def __init__(self,element):\n",
    "        self.element=element\n",
    "    \n",
    "    def append(self):\n",
    "        c= l1.append(self.element)\n",
    "        print(l1) \n",
    "    \n",
    "    def delete(self):\n",
    "        c= l1.remove(self.element)\n",
    "        print(l1)  \n",
    "        \n",
    "    def display(self):\n",
    "        print(l1)  \n",
    "        \n",
    "\n",
    "listobj=list(10)\n",
    "listobj.append()\n",
    "listobj.delete()\n",
    "listobj.display()\n",
    "        "
   ]
  },
  {
   "cell_type": "code",
   "execution_count": 20,
   "id": "3075fe35",
   "metadata": {},
   "outputs": [],
   "source": [
    "#Python Program to Create a Class which Performs Basic Calculator Operations"
   ]
  },
  {
   "cell_type": "code",
   "execution_count": 29,
   "id": "3488cef1",
   "metadata": {},
   "outputs": [
    {
     "name": "stdout",
     "output_type": "stream",
     "text": [
      "7\n",
      "12\n",
      "-1\n",
      "0.75\n"
     ]
    }
   ],
   "source": [
    "class calculator:\n",
    "    def __init__(self,a,b):\n",
    "        self.a=a\n",
    "        self.b=b\n",
    "        \n",
    "    def sum(self):\n",
    "        c=self.a+self.b\n",
    "        print (c)\n",
    "        \n",
    "    def substraction(self):\n",
    "        c=self.a-self.b\n",
    "        print(c)\n",
    "    \n",
    "    def multiply(self):\n",
    "        c=self.a*self.b\n",
    "        print(c)\n",
    "        \n",
    "    def division(self):\n",
    "        c=self.a/self.b\n",
    "        print(c)\n",
    "    \n",
    "    \n",
    "calcobj=calculator(3,4)\n",
    "calcobj.sum()\n",
    "calcobj.multiply()\n",
    "calcobj.substraction()\n",
    "calcobj.division()"
   ]
  },
  {
   "cell_type": "code",
   "execution_count": 40,
   "id": "626583ee",
   "metadata": {},
   "outputs": [
    {
     "name": "stdout",
     "output_type": "stream",
     "text": [
      "enter the string : abcdef\n",
      "abcdef\n"
     ]
    }
   ],
   "source": [
    "#Python Program to Create a Class in which One Method Accepts a String from the User and Another Prints it\n",
    "class string:\n",
    "    \n",
    "        \n",
    "    def accept(self):\n",
    "        self.string=input('enter the string : ' ) \n",
    "                                       #####doubt######\n",
    "        \n",
    "    def prints(self):\n",
    "        print(self.string)\n",
    "        \n",
    "stringobj=string()\n",
    "stringobj.accept()\n",
    "stringobj.prints()"
   ]
  },
  {
   "cell_type": "code",
   "execution_count": null,
   "id": "a95e5903",
   "metadata": {},
   "outputs": [],
   "source": [
    "#Write a Python class which has two methods get_String and print_String. get_String accept a string from the\n",
    "#user and print_String print the string in upper case.\n",
    "\n"
   ]
  },
  {
   "cell_type": "code",
   "execution_count": 35,
   "id": "0b639b9b",
   "metadata": {},
   "outputs": [
    {
     "name": "stdout",
     "output_type": "stream",
     "text": [
      "100.48\n",
      "25.12\n"
     ]
    }
   ],
   "source": [
    "#Write a Python class named Circle constructed by a radius and two methods \n",
    "#which will compute the area and the perimeter of a circle.\n",
    "class circle:\n",
    "    def __init__(self,radius):\n",
    "        self.radius=radius\n",
    "    \n",
    "    def area(self):\n",
    "        a= 2*3.14*self.radius*self.radius\n",
    "        print(a)\n",
    "    def perimeter(self):\n",
    "        c=2*3.14*self.radius\n",
    "        print(c)\n",
    "        \n",
    "circleobj=circle(4)\n",
    "circleobj.area()\n",
    "circleobj.perimeter()"
   ]
  },
  {
   "cell_type": "code",
   "execution_count": null,
   "id": "5358580b",
   "metadata": {},
   "outputs": [],
   "source": [
    "#Write a Python class named Rectangle constructed by a length \n",
    "#and width and a method which will compute the area of a recta"
   ]
  },
  {
   "cell_type": "code",
   "execution_count": 10,
   "id": "a66ef994",
   "metadata": {},
   "outputs": [
    {
     "name": "stdout",
     "output_type": "stream",
     "text": [
      "24\n"
     ]
    }
   ],
   "source": [
    "class rectangle:\n",
    "    def __init__(self,length,width):\n",
    "        self.length=length\n",
    "        self.width=width\n",
    "    def area(self):\n",
    "        a= self.length*self.width\n",
    "        print(a)\n",
    "    \n",
    "        \n",
    "rectangleobj=rectangle(4,6)\n",
    "rectangleobj.area()\n"
   ]
  },
  {
   "cell_type": "code",
   "execution_count": null,
   "id": "285c5378",
   "metadata": {},
   "outputs": [],
   "source": []
  },
  {
   "cell_type": "code",
   "execution_count": null,
   "id": "0f3006d6",
   "metadata": {},
   "outputs": [],
   "source": []
  },
  {
   "cell_type": "code",
   "execution_count": null,
   "id": "e68fb7b6",
   "metadata": {},
   "outputs": [],
   "source": []
  }
 ],
 "metadata": {
  "kernelspec": {
   "display_name": "Python 3 (ipykernel)",
   "language": "python",
   "name": "python3"
  },
  "language_info": {
   "codemirror_mode": {
    "name": "ipython",
    "version": 3
   },
   "file_extension": ".py",
   "mimetype": "text/x-python",
   "name": "python",
   "nbconvert_exporter": "python",
   "pygments_lexer": "ipython3",
   "version": "3.9.13"
  }
 },
 "nbformat": 4,
 "nbformat_minor": 5
}
