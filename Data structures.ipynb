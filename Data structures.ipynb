{
 "cells": [
  {
   "cell_type": "markdown",
   "id": "c92ea67f-6141-4bf6-a252-2c8ea29227ac",
   "metadata": {},
   "source": [
    "Data structure in Python\n",
    "Data structures allows to organise data in such a way that enables you to collection the data, relate them, \n",
    "and perform operations on them accordingly."
   ]
  },
  {
   "cell_type": "markdown",
   "id": "d9f1ad4c-4d7d-4228-8110-6bcc46cef247",
   "metadata": {},
   "source": [
    "Built in Data structures\n",
    "1. List\n",
    "2.Dictionary\n",
    "3.Tuples\n",
    "4.Set"
   ]
  },
  {
   "cell_type": "markdown",
   "id": "f34c2d13-379a-48c4-9895-e086d59c2dd7",
   "metadata": {},
   "source": [
    "2 types\n",
    "\n",
    "1.Built in Data structures\n",
    "\n",
    "2.User defined Data structures"
   ]
  },
  {
   "cell_type": "markdown",
   "id": "2189533a-6492-407a-9fdb-7e3e5df60bd2",
   "metadata": {},
   "source": [
    "2.User defined Data structures\n",
    "Stack\n",
    "Queue\n",
    "Tree\n",
    "LinkedIn\n",
    "Graph"
   ]
  },
  {
   "cell_type": "markdown",
   "id": "3b708753-6249-4b23-b98d-0805c8b8f745",
   "metadata": {},
   "source": [
    "#                                                   List    "
   ]
  },
  {
   "cell_type": "code",
   "execution_count": null,
   "id": "8e66898e-2ebe-4dfb-8b5c-a08861818c32",
   "metadata": {},
   "outputs": [],
   "source": [
    "#can store different type of data\n",
    "list=[1,2,3,\"hello\",8.3]"
   ]
  },
  {
   "cell_type": "code",
   "execution_count": 2,
   "id": "677ce2c3-d7a0-4b3a-9945-4ed28eaeb739",
   "metadata": {},
   "outputs": [
    {
     "data": {
      "text/plain": [
       "False"
      ]
     },
     "execution_count": 2,
     "metadata": {},
     "output_type": "execute_result"
    }
   ],
   "source": [
    "#list are ordered\n",
    "l1=[1,2,3,4,5]\n",
    "l2=[1,2,3,5,4]\n",
    "l1==l2"
   ]
  },
  {
   "cell_type": "code",
   "execution_count": 3,
   "id": "8bacae55-7aa1-4e79-8301-4c2093e289f8",
   "metadata": {},
   "outputs": [
    {
     "name": "stdout",
     "output_type": "stream",
     "text": [
      "1\n",
      "5\n"
     ]
    }
   ],
   "source": [
    "#indexing is possible\n",
    "print(l1[0])\n",
    "print(l1[4])\n"
   ]
  },
  {
   "cell_type": "code",
   "execution_count": 4,
   "id": "29a6788e-594b-414d-bfd4-fa9a1e5a55a7",
   "metadata": {},
   "outputs": [
    {
     "data": {
      "text/plain": [
       "[1, 2, [1, 2, 3, 4]]"
      ]
     },
     "execution_count": 4,
     "metadata": {},
     "output_type": "execute_result"
    }
   ],
   "source": [
    "#list is nested\n",
    "l1=[1,2,[1,2,3,4]]\n",
    "l1"
   ]
  },
  {
   "cell_type": "code",
   "execution_count": 5,
   "id": "d53f0818-7671-4c52-9252-f528b06a7e5e",
   "metadata": {},
   "outputs": [],
   "source": [
    "#list are mutable\n",
    "#insert\n",
    "#delete\n",
    "#replace\n",
    "l1.append(10)\n"
   ]
  },
  {
   "cell_type": "code",
   "execution_count": 6,
   "id": "ba33b138-14a1-4667-b1e4-7d3d40258841",
   "metadata": {},
   "outputs": [
    {
     "data": {
      "text/plain": [
       "[1, 2, [1, 2, 3, 4], 10]"
      ]
     },
     "execution_count": 6,
     "metadata": {},
     "output_type": "execute_result"
    }
   ],
   "source": [
    "l1"
   ]
  },
  {
   "cell_type": "code",
   "execution_count": 9,
   "id": "9151cb06-4d31-4253-b067-b174caaea202",
   "metadata": {},
   "outputs": [
    {
     "data": {
      "text/plain": [
       "[2, 3, 4, 5, 6]"
      ]
     },
     "execution_count": 9,
     "metadata": {},
     "output_type": "execute_result"
    }
   ],
   "source": [
    "list1=[1,2,3,4,5,6]\n",
    "del list1[0]\n",
    "list1"
   ]
  },
  {
   "cell_type": "code",
   "execution_count": 11,
   "id": "1da149da-7947-4359-920c-146e78380e1a",
   "metadata": {},
   "outputs": [
    {
     "data": {
      "text/plain": [
       "[5, 2, 3, 4, 5, 6]"
      ]
     },
     "execution_count": 11,
     "metadata": {},
     "output_type": "execute_result"
    }
   ],
   "source": [
    "list=[1,2,3,4,5,6]\n",
    "list[0]=5\n",
    "list"
   ]
  },
  {
   "cell_type": "code",
   "execution_count": null,
   "id": "d372c4d6-59fa-44db-bfd6-173c9f788ee6",
   "metadata": {},
   "outputs": [],
   "source": [
    "#list are dynamic"
   ]
  },
  {
   "cell_type": "code",
   "execution_count": null,
   "id": "39318cb2",
   "metadata": {},
   "outputs": [],
   "source": [
    "# sort()"
   ]
  },
  {
   "cell_type": "code",
   "execution_count": null,
   "id": "d1065990",
   "metadata": {},
   "outputs": [],
   "source": [
    "list0=[1,8,4,7,6,9,10]\n",
    "list0.sort()\n",
    "list0"
   ]
  },
  {
   "cell_type": "code",
   "execution_count": null,
   "id": "69045fb7",
   "metadata": {},
   "outputs": [],
   "source": [
    "#reverse()"
   ]
  },
  {
   "cell_type": "code",
   "execution_count": null,
   "id": "7816fc8b",
   "metadata": {},
   "outputs": [],
   "source": [
    "L=[20,30,35,45,60]\n",
    "L.reverse()\n",
    "L"
   ]
  },
  {
   "cell_type": "markdown",
   "id": "28e61e1f",
   "metadata": {},
   "source": [
    "#                                                            tuples"
   ]
  },
  {
   "cell_type": "code",
   "execution_count": null,
   "id": "d70747b2-d728-4325-8535-14673dc41a6c",
   "metadata": {},
   "outputs": [],
   "source": [
    "#enclosed in parathesis\n",
    "tuple= (1,2,3,4)\n",
    "#empty tuple \n",
    "tuple1=()\n",
    "#tuple with single element\n",
    "tuple2=(2,)"
   ]
  },
  {
   "cell_type": "code",
   "execution_count": 15,
   "id": "a8be5479-c47d-4d2c-a88c-e107dc3f28d7",
   "metadata": {},
   "outputs": [],
   "source": [
    "#immutable\n",
    "#can not modify\n",
    "#to access the elements can use index"
   ]
  },
  {
   "cell_type": "code",
   "execution_count": null,
   "id": "53dd3879-69c3-4705-83c4-002db1004216",
   "metadata": {},
   "outputs": [],
   "source": [
    "#why we need tuples\n",
    "#Tuples are faster\n",
    "#maintain the data constant througth out the program\n"
   ]
  },
  {
   "cell_type": "code",
   "execution_count": null,
   "id": "35917544-d6a7-40f7-8b1b-6455ab998c46",
   "metadata": {},
   "outputs": [],
   "source": []
  },
  {
   "cell_type": "code",
   "execution_count": null,
   "id": "ba6e4854-4de0-46fb-a2d8-feb8ca4ef18d",
   "metadata": {},
   "outputs": [],
   "source": []
  },
  {
   "cell_type": "code",
   "execution_count": null,
   "id": "c564033e-952b-4673-a9e1-ca5b95f4b6f6",
   "metadata": {},
   "outputs": [],
   "source": []
  },
  {
   "cell_type": "code",
   "execution_count": null,
   "id": "00546bf1-3936-4d8d-b72a-13f6b0a35631",
   "metadata": {},
   "outputs": [],
   "source": []
  }
 ],
 "metadata": {
  "kernelspec": {
   "display_name": "Python 3 (ipykernel)",
   "language": "python",
   "name": "python3"
  },
  "language_info": {
   "codemirror_mode": {
    "name": "ipython",
    "version": 3
   },
   "file_extension": ".py",
   "mimetype": "text/x-python",
   "name": "python",
   "nbconvert_exporter": "python",
   "pygments_lexer": "ipython3",
   "version": "3.9.13"
  }
 },
 "nbformat": 4,
 "nbformat_minor": 5
}
